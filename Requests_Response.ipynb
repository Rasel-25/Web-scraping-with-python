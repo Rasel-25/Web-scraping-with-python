{
 "cells": [
  {
   "cell_type": "markdown",
   "metadata": {},
   "source": [
    "# Python requests.Response Object\n",
    "The requests.Response() Object contains the server's response to the HTTP request.\n"
   ]
  },
  {
   "cell_type": "markdown",
   "metadata": {},
   "source": [
    "When one makes a request to a URI, it returns a response. This Response object in terms of python is returned by requests.method(), method being – get, post, put, etc. \n",
    "\n",
    "Response is a powerful object with lots of functions and attributes that assist in normalizing data or creating ideal portions of code. \n",
    "\n",
    "For example, response.status_code returns the status code from the headers itself, and one can check if the request was processed successfully or not. \n",
    "Response object can be used to imply lots of features, methods, and functionalities. "
   ]
  },
  {
   "cell_type": "code",
   "execution_count": null,
   "metadata": {},
   "outputs": [],
   "source": [
    "import requests"
   ]
  },
  {
   "cell_type": "code",
   "execution_count": null,
   "metadata": {},
   "outputs": [],
   "source": [
    "# import requests module\n",
    "import requests\n",
    " \n",
    "# Making a get request\n",
    "response = requests.get('https://api.github.com/')\n",
    " \n",
    "# print request object\n",
    "print(response.url)\n",
    " \n",
    "# print status code\n",
    "print(response.status_code)"
   ]
  },
  {
   "cell_type": "markdown",
   "metadata": {},
   "source": [
    "# Response-1: apparent_encoding\n",
    "Returns the apparent encoding"
   ]
  },
  {
   "cell_type": "code",
   "execution_count": null,
   "metadata": {},
   "outputs": [],
   "source": [
    "url = 'https://jsonplaceholder.typicode.com/users' # Making a put request\n",
    "r1=requests.get(url)\n",
    "r1.apparent_encoding"
   ]
  },
  {
   "cell_type": "code",
   "execution_count": null,
   "metadata": {},
   "outputs": [],
   "source": [
    "r1.status_code"
   ]
  },
  {
   "cell_type": "code",
   "execution_count": null,
   "metadata": {},
   "outputs": [],
   "source": [
    "print(r1.text)"
   ]
  },
  {
   "cell_type": "markdown",
   "metadata": {},
   "source": [
    "# Response-2: close()"
   ]
  },
  {
   "cell_type": "code",
   "execution_count": 63,
   "metadata": {},
   "outputs": [
    {
     "name": "stdout",
     "output_type": "stream",
     "text": [
      "None\n",
      "Connection Closed\n"
     ]
    }
   ],
   "source": [
    "r2 = requests.get(url)\n",
    "print(r2.close()) # response.close() close the connection to the server:\n",
    "print(\"Connection Closed\") # Check if this gets executed"
   ]
  },
  {
   "cell_type": "markdown",
   "metadata": {},
   "source": [
    "# Response-3: content\n",
    "Returns the content of the response, in bytes\n",
    "\n",
    "response.content out of a response object. response.content returns the content of the response, in bytes. Basically, it refers to Binary Response content."
   ]
  },
  {
   "cell_type": "code",
   "execution_count": null,
   "metadata": {},
   "outputs": [],
   "source": [
    "r3 = requests.get(url)\n",
    "print(r3.content)"
   ]
  },
  {
   "cell_type": "markdown",
   "metadata": {},
   "source": [
    "# Response-4: cookies\n",
    "Returns a CookieJar object with the cookies sent back from the server"
   ]
  },
  {
   "cell_type": "code",
   "execution_count": null,
   "metadata": {},
   "outputs": [],
   "source": [
    "r4 = requests.get(url)\n",
    "print(r4.cookies)"
   ]
  },
  {
   "cell_type": "code",
   "execution_count": null,
   "metadata": {},
   "outputs": [],
   "source": [
    "r4.status_code"
   ]
  },
  {
   "cell_type": "code",
   "execution_count": null,
   "metadata": {},
   "outputs": [],
   "source": [
    "r4.content"
   ]
  },
  {
   "cell_type": "markdown",
   "metadata": {},
   "source": [
    "# Response-5: elapsed\n",
    "Returns a timedelta object with the time elapsed from sending the request to the arrival of the response"
   ]
  },
  {
   "cell_type": "code",
   "execution_count": 53,
   "metadata": {},
   "outputs": [
    {
     "name": "stdout",
     "output_type": "stream",
     "text": [
      "0:00:00.302336\n"
     ]
    }
   ],
   "source": [
    "r5 = requests.get(url)\n",
    "\n",
    "print(r5.elapsed)\n"
   ]
  },
  {
   "cell_type": "markdown",
   "metadata": {},
   "source": [
    "# Response-6: encoding\n",
    "Returns the encoding used to decode r.text.\n",
    "\n",
    "Check that utf-8 at the start of the output, it shows that string is encoded and decoded using “utf-8”"
   ]
  },
  {
   "cell_type": "code",
   "execution_count": 39,
   "metadata": {},
   "outputs": [
    {
     "name": "stdout",
     "output_type": "stream",
     "text": [
      "utf-8\n"
     ]
    }
   ],
   "source": [
    "r6 = requests.get(url)\n",
    "print(r6.encoding)"
   ]
  },
  {
   "cell_type": "markdown",
   "metadata": {},
   "source": [
    "# Response-7: headers\n",
    "Returns a dictionary of response headers"
   ]
  },
  {
   "cell_type": "code",
   "execution_count": null,
   "metadata": {},
   "outputs": [],
   "source": [
    "# Print all values in the dictionary, one by one:\n",
    "r7 = requests.get(url)\n",
    "r7.headers\n",
    "for x in r7.headers:\n",
    "    print(r7.headers[x])\n"
   ]
  },
  {
   "cell_type": "code",
   "execution_count": 38,
   "metadata": {},
   "outputs": [
    {
     "name": "stdout",
     "output_type": "stream",
     "text": [
      "Date  :  Fri, 29 Apr 2022 11:51:56 GMT\n",
      "Content-Type  :  application/json; charset=utf-8\n",
      "Transfer-Encoding  :  chunked\n",
      "Connection  :  keep-alive\n",
      "x-powered-by  :  Express\n",
      "x-ratelimit-limit  :  1000\n",
      "x-ratelimit-remaining  :  999\n",
      "x-ratelimit-reset  :  1639512139\n",
      "vary  :  Origin, Accept-Encoding\n",
      "access-control-allow-credentials  :  true\n",
      "cache-control  :  max-age=43200\n",
      "pragma  :  no-cache\n",
      "expires  :  -1\n",
      "x-content-type-options  :  nosniff\n",
      "etag  :  W/\"160d-1eMSsxeJRfnVLRBmYJSbCiJZ1qQ\"\n",
      "content-encoding  :  gzip\n",
      "via  :  1.1 vegur\n",
      "CF-Cache-Status  :  HIT\n",
      "Age  :  8665\n",
      "Expect-CT  :  max-age=604800, report-uri=\"https://report-uri.cloudflare.com/cdn-cgi/beacon/expect-ct\"\n",
      "Report-To  :  {\"endpoints\":[{\"url\":\"https:\\/\\/a.nel.cloudflare.com\\/report\\/v3?s=X7rG%2FW2JO8wUmyriJht2BVPlVLJCKtwaKmFqZclJ1ccN9F3jC1biRUSsbmX6s6rrp%2BOiXiKM8OInrqcr%2BpXfimBP5ficMgUYfqwT%2BBVZY9VgKNXaxIOxgBwAE8MkipbTZLGH2K9NDQsx0YWaXsyX\"}],\"group\":\"cf-nel\",\"max_age\":604800}\n",
      "NEL  :  {\"success_fraction\":0,\"report_to\":\"cf-nel\",\"max_age\":604800}\n",
      "Server  :  cloudflare\n",
      "CF-RAY  :  7037d424beed87a5-SIN\n",
      "alt-svc  :  h3=\":443\"; ma=86400, h3-29=\":443\"; ma=86400\n"
     ]
    }
   ],
   "source": [
    "# Print all keys and values in the dictionary, one by one:\n",
    "r7 = requests.get(url)\n",
    "r7.headers\n",
    "for x,y in r7.headers.items():\n",
    "    print(x,' : ',y)\n"
   ]
  },
  {
   "cell_type": "markdown",
   "metadata": {},
   "source": [
    "# Response-8: history\n",
    "Returns a list of response objects holding the history of request (url)"
   ]
  },
  {
   "cell_type": "code",
   "execution_count": null,
   "metadata": {},
   "outputs": [],
   "source": [
    "r8 = requests.get(url)\n",
    "print(r8.history)"
   ]
  },
  {
   "cell_type": "markdown",
   "metadata": {},
   "source": [
    "# Response-9: is_permanent_redirect\n",
    "Returns True if the response is the permanent redirected url, otherwise False"
   ]
  },
  {
   "cell_type": "code",
   "execution_count": null,
   "metadata": {},
   "outputs": [],
   "source": [
    "r9 = requests.get(url)\n",
    "print(r9.is_permanent_redirect)"
   ]
  },
  {
   "cell_type": "markdown",
   "metadata": {},
   "source": [
    "# Response-10: is_redirect\n",
    "Returns True if the response was redirected, otherwise False"
   ]
  },
  {
   "cell_type": "code",
   "execution_count": null,
   "metadata": {},
   "outputs": [],
   "source": [
    "r10 = requests.get(url)\n",
    "print(r10.is_redirect)"
   ]
  },
  {
   "cell_type": "markdown",
   "metadata": {},
   "source": [
    "# Response-11: iter_content()\t\t\n",
    "Iterates over the response"
   ]
  },
  {
   "cell_type": "code",
   "execution_count": null,
   "metadata": {},
   "outputs": [],
   "source": [
    "r11 = requests.get(url)\n",
    "print(r11.iter_content()) #return an iterator, one item for each character:\n",
    "\n",
    "for c in r11.iter_content(): #looping through the iterator:\n",
    "  print(c)"
   ]
  },
  {
   "cell_type": "markdown",
   "metadata": {},
   "source": [
    "# Response-12: iter_lines()\t\t\n",
    "Iterates over the lines of the response"
   ]
  },
  {
   "cell_type": "code",
   "execution_count": null,
   "metadata": {},
   "outputs": [],
   "source": [
    "r12 = requests.get(url)\n",
    "print(r12.iter_lines()) #return an iterator, one item for each line:\n",
    "\n",
    "for c in r12.iter_content(): #looping through the iterator:\n",
    "  print(c)"
   ]
  },
  {
   "cell_type": "markdown",
   "metadata": {},
   "source": [
    "# Response-13: json()\t\t\n",
    "Returns a JSON object of the result (if the result was written in JSON format, if not it raises an error)"
   ]
  },
  {
   "cell_type": "code",
   "execution_count": null,
   "metadata": {},
   "outputs": [],
   "source": [
    "r13 = requests.get(url)\n",
    "print(r13.json())"
   ]
  },
  {
   "cell_type": "markdown",
   "metadata": {},
   "source": [
    "# Response-14: links\t\t\n",
    "Returns the header links"
   ]
  },
  {
   "cell_type": "code",
   "execution_count": null,
   "metadata": {},
   "outputs": [],
   "source": [
    "r14 = requests.get(url)\n",
    "\n",
    "print(r14.links)"
   ]
  },
  {
   "cell_type": "markdown",
   "metadata": {},
   "source": [
    "# Response-15: next\t\t\n",
    "Returns a Prepared Request object for the next request in a redirection"
   ]
  },
  {
   "cell_type": "code",
   "execution_count": null,
   "metadata": {},
   "outputs": [],
   "source": [
    "r15 = requests.get(url)\n",
    "print(r15.next)"
   ]
  },
  {
   "cell_type": "markdown",
   "metadata": {},
   "source": [
    "# Response-16: ok\t\t\n",
    "Returns True if status_code is less than 400, otherwise False"
   ]
  },
  {
   "cell_type": "code",
   "execution_count": null,
   "metadata": {},
   "outputs": [],
   "source": [
    "r16= requests.get(url)\n",
    "print(r16.ok)"
   ]
  },
  {
   "cell_type": "markdown",
   "metadata": {},
   "source": [
    "# Response-17: raise_for_status()\t\t\n",
    "If an error occur, this method returns a HTTPError object"
   ]
  },
  {
   "cell_type": "code",
   "execution_count": null,
   "metadata": {},
   "outputs": [],
   "source": [
    "url = 'https://jsonplaceholder.typicode.com/users'\n",
    "r17= requests.get(url)\n",
    "print(r17.raise_for_status())"
   ]
  },
  {
   "cell_type": "markdown",
   "metadata": {},
   "source": [
    "# Response-18: reason\t\t\n",
    "Returns a text corresponding to the status code"
   ]
  },
  {
   "cell_type": "code",
   "execution_count": null,
   "metadata": {},
   "outputs": [],
   "source": [
    "r18 = requests.get(url)\n",
    "print(r18.reason)\n"
   ]
  },
  {
   "cell_type": "markdown",
   "metadata": {},
   "source": [
    "# Response-19: request\t\t\n",
    "Returns the request object that requested this response"
   ]
  },
  {
   "cell_type": "code",
   "execution_count": null,
   "metadata": {},
   "outputs": [],
   "source": [
    "r19= requests.get(url)\n",
    "print(r19.request)"
   ]
  },
  {
   "cell_type": "markdown",
   "metadata": {},
   "source": [
    "# Response-20: status_code\t\t\n",
    "Returns a number that indicates the status (200 is OK, 404 is Not Found)"
   ]
  },
  {
   "cell_type": "code",
   "execution_count": null,
   "metadata": {},
   "outputs": [],
   "source": [
    "r20 = requests.get(url)\n",
    "print(r20.status_code)"
   ]
  },
  {
   "cell_type": "markdown",
   "metadata": {},
   "source": [
    "# Response-21: text\t\t\n",
    "Returns the content of the response, in unicode"
   ]
  },
  {
   "cell_type": "code",
   "execution_count": 51,
   "metadata": {},
   "outputs": [
    {
     "name": "stdout",
     "output_type": "stream",
     "text": [
      "[\n",
      "  {\n",
      "    \"id\": 1,\n",
      "    \"name\": \"Leanne Graham\",\n",
      "    \"username\": \"Bret\",\n",
      "    \"email\": \"Sincere@april.biz\",\n",
      "    \"address\": {\n",
      "      \"street\": \"Kulas Light\",\n",
      "      \"suite\": \"Apt. 556\",\n",
      "      \"city\": \"Gwenborough\",\n",
      "      \"zipcode\": \"92998-3874\",\n",
      "      \"geo\": {\n",
      "        \"lat\": \"-37.3159\",\n",
      "        \"lng\": \"81.1496\"\n",
      "      }\n",
      "    },\n",
      "    \"phone\": \"1-770-736-8031 x56442\",\n",
      "    \"website\": \"hildegard.org\",\n",
      "    \"company\": {\n",
      "      \"name\": \"Romaguera-Crona\",\n",
      "      \"catchPhrase\": \"Multi-layered client-server neural-net\",\n",
      "      \"bs\": \"harness real-time e-markets\"\n",
      "    }\n",
      "  },\n",
      "  {\n",
      "    \"id\": 2,\n",
      "    \"name\": \"Ervin Howell\",\n",
      "    \"username\": \"Antonette\",\n",
      "    \"email\": \"Shanna@melissa.tv\",\n",
      "    \"address\": {\n",
      "      \"street\": \"Victor Plains\",\n",
      "      \"suite\": \"Suite 879\",\n",
      "      \"city\": \"Wisokyburgh\",\n",
      "      \"zipcode\": \"90566-7771\",\n",
      "      \"geo\": {\n",
      "        \"lat\": \"-43.9509\",\n",
      "        \"lng\": \"-34.4618\"\n",
      "      }\n",
      "    },\n",
      "    \"phone\": \"010-692-6593 x09125\",\n",
      "    \"website\": \"anastasia.net\",\n",
      "    \"company\": {\n",
      "      \"name\": \"Deckow-Crist\",\n",
      "      \"catchPhrase\": \"Proactive didactic contingency\",\n",
      "      \"bs\": \"synergize scalable supply-chains\"\n",
      "    }\n",
      "  },\n",
      "  {\n",
      "    \"id\": 3,\n",
      "    \"name\": \"Clementine Bauch\",\n",
      "    \"username\": \"Samantha\",\n",
      "    \"email\": \"Nathan@yesenia.net\",\n",
      "    \"address\": {\n",
      "      \"street\": \"Douglas Extension\",\n",
      "      \"suite\": \"Suite 847\",\n",
      "      \"city\": \"McKenziehaven\",\n",
      "      \"zipcode\": \"59590-4157\",\n",
      "      \"geo\": {\n",
      "        \"lat\": \"-68.6102\",\n",
      "        \"lng\": \"-47.0653\"\n",
      "      }\n",
      "    },\n",
      "    \"phone\": \"1-463-123-4447\",\n",
      "    \"website\": \"ramiro.info\",\n",
      "    \"company\": {\n",
      "      \"name\": \"Romaguera-Jacobson\",\n",
      "      \"catchPhrase\": \"Face to face bifurcated interface\",\n",
      "      \"bs\": \"e-enable strategic applications\"\n",
      "    }\n",
      "  },\n",
      "  {\n",
      "    \"id\": 4,\n",
      "    \"name\": \"Patricia Lebsack\",\n",
      "    \"username\": \"Karianne\",\n",
      "    \"email\": \"Julianne.OConner@kory.org\",\n",
      "    \"address\": {\n",
      "      \"street\": \"Hoeger Mall\",\n",
      "      \"suite\": \"Apt. 692\",\n",
      "      \"city\": \"South Elvis\",\n",
      "      \"zipcode\": \"53919-4257\",\n",
      "      \"geo\": {\n",
      "        \"lat\": \"29.4572\",\n",
      "        \"lng\": \"-164.2990\"\n",
      "      }\n",
      "    },\n",
      "    \"phone\": \"493-170-9623 x156\",\n",
      "    \"website\": \"kale.biz\",\n",
      "    \"company\": {\n",
      "      \"name\": \"Robel-Corkery\",\n",
      "      \"catchPhrase\": \"Multi-tiered zero tolerance productivity\",\n",
      "      \"bs\": \"transition cutting-edge web services\"\n",
      "    }\n",
      "  },\n",
      "  {\n",
      "    \"id\": 5,\n",
      "    \"name\": \"Chelsey Dietrich\",\n",
      "    \"username\": \"Kamren\",\n",
      "    \"email\": \"Lucio_Hettinger@annie.ca\",\n",
      "    \"address\": {\n",
      "      \"street\": \"Skiles Walks\",\n",
      "      \"suite\": \"Suite 351\",\n",
      "      \"city\": \"Roscoeview\",\n",
      "      \"zipcode\": \"33263\",\n",
      "      \"geo\": {\n",
      "        \"lat\": \"-31.8129\",\n",
      "        \"lng\": \"62.5342\"\n",
      "      }\n",
      "    },\n",
      "    \"phone\": \"(254)954-1289\",\n",
      "    \"website\": \"demarco.info\",\n",
      "    \"company\": {\n",
      "      \"name\": \"Keebler LLC\",\n",
      "      \"catchPhrase\": \"User-centric fault-tolerant solution\",\n",
      "      \"bs\": \"revolutionize end-to-end systems\"\n",
      "    }\n",
      "  },\n",
      "  {\n",
      "    \"id\": 6,\n",
      "    \"name\": \"Mrs. Dennis Schulist\",\n",
      "    \"username\": \"Leopoldo_Corkery\",\n",
      "    \"email\": \"Karley_Dach@jasper.info\",\n",
      "    \"address\": {\n",
      "      \"street\": \"Norberto Crossing\",\n",
      "      \"suite\": \"Apt. 950\",\n",
      "      \"city\": \"South Christy\",\n",
      "      \"zipcode\": \"23505-1337\",\n",
      "      \"geo\": {\n",
      "        \"lat\": \"-71.4197\",\n",
      "        \"lng\": \"71.7478\"\n",
      "      }\n",
      "    },\n",
      "    \"phone\": \"1-477-935-8478 x6430\",\n",
      "    \"website\": \"ola.org\",\n",
      "    \"company\": {\n",
      "      \"name\": \"Considine-Lockman\",\n",
      "      \"catchPhrase\": \"Synchronised bottom-line interface\",\n",
      "      \"bs\": \"e-enable innovative applications\"\n",
      "    }\n",
      "  },\n",
      "  {\n",
      "    \"id\": 7,\n",
      "    \"name\": \"Kurtis Weissnat\",\n",
      "    \"username\": \"Elwyn.Skiles\",\n",
      "    \"email\": \"Telly.Hoeger@billy.biz\",\n",
      "    \"address\": {\n",
      "      \"street\": \"Rex Trail\",\n",
      "      \"suite\": \"Suite 280\",\n",
      "      \"city\": \"Howemouth\",\n",
      "      \"zipcode\": \"58804-1099\",\n",
      "      \"geo\": {\n",
      "        \"lat\": \"24.8918\",\n",
      "        \"lng\": \"21.8984\"\n",
      "      }\n",
      "    },\n",
      "    \"phone\": \"210.067.6132\",\n",
      "    \"website\": \"elvis.io\",\n",
      "    \"company\": {\n",
      "      \"name\": \"Johns Group\",\n",
      "      \"catchPhrase\": \"Configurable multimedia task-force\",\n",
      "      \"bs\": \"generate enterprise e-tailers\"\n",
      "    }\n",
      "  },\n",
      "  {\n",
      "    \"id\": 8,\n",
      "    \"name\": \"Nicholas Runolfsdottir V\",\n",
      "    \"username\": \"Maxime_Nienow\",\n",
      "    \"email\": \"Sherwood@rosamond.me\",\n",
      "    \"address\": {\n",
      "      \"street\": \"Ellsworth Summit\",\n",
      "      \"suite\": \"Suite 729\",\n",
      "      \"city\": \"Aliyaview\",\n",
      "      \"zipcode\": \"45169\",\n",
      "      \"geo\": {\n",
      "        \"lat\": \"-14.3990\",\n",
      "        \"lng\": \"-120.7677\"\n",
      "      }\n",
      "    },\n",
      "    \"phone\": \"586.493.6943 x140\",\n",
      "    \"website\": \"jacynthe.com\",\n",
      "    \"company\": {\n",
      "      \"name\": \"Abernathy Group\",\n",
      "      \"catchPhrase\": \"Implemented secondary concept\",\n",
      "      \"bs\": \"e-enable extensible e-tailers\"\n",
      "    }\n",
      "  },\n",
      "  {\n",
      "    \"id\": 9,\n",
      "    \"name\": \"Glenna Reichert\",\n",
      "    \"username\": \"Delphine\",\n",
      "    \"email\": \"Chaim_McDermott@dana.io\",\n",
      "    \"address\": {\n",
      "      \"street\": \"Dayna Park\",\n",
      "      \"suite\": \"Suite 449\",\n",
      "      \"city\": \"Bartholomebury\",\n",
      "      \"zipcode\": \"76495-3109\",\n",
      "      \"geo\": {\n",
      "        \"lat\": \"24.6463\",\n",
      "        \"lng\": \"-168.8889\"\n",
      "      }\n",
      "    },\n",
      "    \"phone\": \"(775)976-6794 x41206\",\n",
      "    \"website\": \"conrad.com\",\n",
      "    \"company\": {\n",
      "      \"name\": \"Yost and Sons\",\n",
      "      \"catchPhrase\": \"Switchable contextually-based project\",\n",
      "      \"bs\": \"aggregate real-time technologies\"\n",
      "    }\n",
      "  },\n",
      "  {\n",
      "    \"id\": 10,\n",
      "    \"name\": \"Clementina DuBuque\",\n",
      "    \"username\": \"Moriah.Stanton\",\n",
      "    \"email\": \"Rey.Padberg@karina.biz\",\n",
      "    \"address\": {\n",
      "      \"street\": \"Kattie Turnpike\",\n",
      "      \"suite\": \"Suite 198\",\n",
      "      \"city\": \"Lebsackbury\",\n",
      "      \"zipcode\": \"31428-2261\",\n",
      "      \"geo\": {\n",
      "        \"lat\": \"-38.2386\",\n",
      "        \"lng\": \"57.2232\"\n",
      "      }\n",
      "    },\n",
      "    \"phone\": \"024-648-3804\",\n",
      "    \"website\": \"ambrose.net\",\n",
      "    \"company\": {\n",
      "      \"name\": \"Hoeger LLC\",\n",
      "      \"catchPhrase\": \"Centralized empowering task-force\",\n",
      "      \"bs\": \"target end-to-end models\"\n",
      "    }\n",
      "  }\n",
      "]\n"
     ]
    }
   ],
   "source": [
    "r21 = requests.get(url)\n",
    "print(r21.text)"
   ]
  },
  {
   "cell_type": "code",
   "execution_count": 44,
   "metadata": {},
   "outputs": [
    {
     "data": {
      "text/plain": [
       "str"
      ]
     },
     "execution_count": 44,
     "metadata": {},
     "output_type": "execute_result"
    }
   ],
   "source": []
  },
  {
   "cell_type": "markdown",
   "metadata": {},
   "source": [
    "# Response-22: url\t\t\n",
    "Returns the URL of the response"
   ]
  },
  {
   "cell_type": "code",
   "execution_count": null,
   "metadata": {},
   "outputs": [],
   "source": [
    "r22 = requests.get(url)\n",
    "print(r22.url)\n"
   ]
  }
 ],
 "metadata": {
  "interpreter": {
   "hash": "2be5faf79681da6f2a61fdfdd5405d65d042280f7fba6178067603e3a2925119"
  },
  "kernelspec": {
   "display_name": "Python 3.10.1 64-bit",
   "language": "python",
   "name": "python3"
  },
  "language_info": {
   "codemirror_mode": {
    "name": "ipython",
    "version": 3
   },
   "file_extension": ".py",
   "mimetype": "text/x-python",
   "name": "python",
   "nbconvert_exporter": "python",
   "pygments_lexer": "ipython3",
   "version": "3.10.1"
  },
  "orig_nbformat": 4
 },
 "nbformat": 4,
 "nbformat_minor": 2
}
