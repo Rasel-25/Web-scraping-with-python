{
 "cells": [
  {
   "cell_type": "markdown",
   "metadata": {},
   "source": [
    "# Python requests.Response Object\n",
    "The requests.Response() Object contains the server's response to the HTTP request.\n"
   ]
  },
  {
   "cell_type": "markdown",
   "metadata": {},
   "source": [
    "When one makes a request to a URI, it returns a response. This Response object in terms of python is returned by requests.method(), method being – get, post, put, etc. \n",
    "\n",
    "Response is a powerful object with lots of functions and attributes that assist in normalizing data or creating ideal portions of code. \n",
    "\n",
    "For example, response.status_code returns the status code from the headers itself, and one can check if the request was processed successfully or not. \n",
    "Response object can be used to imply lots of features, methods, and functionalities. "
   ]
  },
  {
   "cell_type": "code",
   "execution_count": null,
   "metadata": {},
   "outputs": [],
   "source": [
    "import requests"
   ]
  },
  {
   "cell_type": "code",
   "execution_count": 50,
   "metadata": {},
   "outputs": [
    {
     "name": "stdout",
     "output_type": "stream",
     "text": [
      "https://api.github.com/\n",
      "200\n"
     ]
    }
   ],
   "source": [
    "# import requests module\n",
    "import requests\n",
    " \n",
    "# Making a get request\n",
    "response = requests.get('https://api.github.com/')\n",
    " \n",
    "# print request object\n",
    "print(response.url)\n",
    " \n",
    "# print status code\n",
    "print(response.status_code)"
   ]
  },
  {
   "cell_type": "markdown",
   "metadata": {},
   "source": [
    "# Response-1: apparent_encoding\n",
    "Returns the apparent encoding"
   ]
  },
  {
   "cell_type": "code",
   "execution_count": null,
   "metadata": {},
   "outputs": [],
   "source": [
    "url = 'https://jsonplaceholder.typicode.com/users' # Making a put request\n",
    "r1=requests.get(url)\n",
    "r1.apparent_encoding"
   ]
  },
  {
   "cell_type": "code",
   "execution_count": null,
   "metadata": {},
   "outputs": [],
   "source": [
    "r1.status_code"
   ]
  },
  {
   "cell_type": "code",
   "execution_count": null,
   "metadata": {},
   "outputs": [],
   "source": [
    "print(r1.text)"
   ]
  },
  {
   "cell_type": "markdown",
   "metadata": {},
   "source": [
    "# Response-2: close()"
   ]
  },
  {
   "cell_type": "code",
   "execution_count": null,
   "metadata": {},
   "outputs": [],
   "source": [
    "r2 = requests.get(url)\n",
    "print(r2.close()) # response.close() close the connection to the server:\n",
    "print(\"Connection Closed\") # Check if this gets executed"
   ]
  },
  {
   "cell_type": "markdown",
   "metadata": {},
   "source": [
    "# Response-3: content\n",
    "Returns the content of the response, in bytes\n",
    "\n",
    "response.content out of a response object. response.content returns the content of the response, in bytes. Basically, it refers to Binary Response content."
   ]
  },
  {
   "cell_type": "code",
   "execution_count": null,
   "metadata": {},
   "outputs": [],
   "source": [
    "r3 = requests.get(url)\n",
    "print(r3.content)"
   ]
  },
  {
   "cell_type": "markdown",
   "metadata": {},
   "source": [
    "# Response-4: cookies\n",
    "Returns a CookieJar object with the cookies sent back from the server"
   ]
  },
  {
   "cell_type": "code",
   "execution_count": null,
   "metadata": {},
   "outputs": [],
   "source": [
    "r4 = requests.get(url)\n",
    "print(r4.cookies)"
   ]
  },
  {
   "cell_type": "code",
   "execution_count": null,
   "metadata": {},
   "outputs": [],
   "source": [
    "r4.status_code"
   ]
  },
  {
   "cell_type": "code",
   "execution_count": null,
   "metadata": {},
   "outputs": [],
   "source": [
    "r4.content"
   ]
  },
  {
   "cell_type": "markdown",
   "metadata": {},
   "source": [
    "# Response-5: elapsed\n",
    "Returns a timedelta object with the time elapsed from sending the request to the arrival of the response"
   ]
  },
  {
   "cell_type": "code",
   "execution_count": null,
   "metadata": {},
   "outputs": [],
   "source": [
    "r5 = requests.get(url)\n",
    "\n",
    "print(r5.elapsed)\n"
   ]
  },
  {
   "cell_type": "markdown",
   "metadata": {},
   "source": [
    "# Response-6: encoding\n",
    "Returns the encoding used to decode r.text.\n",
    "\n",
    "Check that utf-8 at the start of the output, it shows that string is encoded and decoded using “utf-8”"
   ]
  },
  {
   "cell_type": "code",
   "execution_count": null,
   "metadata": {},
   "outputs": [],
   "source": [
    "r6 = requests.get(url)\n",
    "print(r6.encoding)"
   ]
  },
  {
   "cell_type": "markdown",
   "metadata": {},
   "source": [
    "# Response-7: headers\n",
    "Returns a dictionary of response headers"
   ]
  },
  {
   "cell_type": "code",
   "execution_count": null,
   "metadata": {},
   "outputs": [],
   "source": [
    "# Print all values in the dictionary, one by one:\n",
    "r7 = requests.get(url)\n",
    "r7.headers\n",
    "for x in r7.headers:\n",
    "    print(r7.headers[x])\n"
   ]
  },
  {
   "cell_type": "code",
   "execution_count": null,
   "metadata": {},
   "outputs": [],
   "source": [
    "# Print all keys and values in the dictionary, one by one:\n",
    "r7 = requests.get(url)\n",
    "r7.headers\n",
    "for x,y in r7.headers.items():\n",
    "    print(x,' : ',y)\n"
   ]
  },
  {
   "cell_type": "markdown",
   "metadata": {},
   "source": [
    "# Response-8: history\n",
    "Returns a list of response objects holding the history of request (url).\n",
    "\n",
    "response.history returns a list of response objects holding the history of request (url). Basically, it shows how did the request reach the target in form of a list of responses.\n",
    "\n",
    "Check that history list at the start of the output, it shows the different responses.Response 301 shows a redirect request."
   ]
  },
  {
   "cell_type": "code",
   "execution_count": 35,
   "metadata": {},
   "outputs": [
    {
     "name": "stdout",
     "output_type": "stream",
     "text": [
      "<Response [200]>\n",
      "[]\n"
     ]
    }
   ],
   "source": [
    "r8 = requests.get(url)\n",
    "print(r8)\n",
    "print(r8.history)"
   ]
  },
  {
   "cell_type": "code",
   "execution_count": 34,
   "metadata": {},
   "outputs": [
    {
     "name": "stdout",
     "output_type": "stream",
     "text": [
      "<Response [200]>\n",
      "[<Response [301]>]\n"
     ]
    }
   ],
   "source": [
    "response = requests.get('https://geeksforgeeks.org')\n",
    "print(response)\n",
    "print(response.history)"
   ]
  },
  {
   "cell_type": "markdown",
   "metadata": {},
   "source": [
    "# Response-9: is_permanent_redirect\n",
    "Returns True if the response is the permanent redirected url, otherwise False.\n",
    "\n",
    "response.is_permanent_redirect returns True if the response is the permanent redirected url, otherwise False. A 301 redirect is a permanent redirect from one URL to another. 301 redirects send site visitors and search engines to a different URL than the one they originally typed into their browser or selected from a search engine results page."
   ]
  },
  {
   "cell_type": "code",
   "execution_count": 36,
   "metadata": {},
   "outputs": [
    {
     "name": "stdout",
     "output_type": "stream",
     "text": [
      "False\n"
     ]
    }
   ],
   "source": [
    "r9 = requests.get(url)\n",
    "print(r9.is_permanent_redirect)"
   ]
  },
  {
   "cell_type": "markdown",
   "metadata": {},
   "source": [
    "# Response-10: is_redirect\n",
    "Returns True if the response was redirected, otherwise False"
   ]
  },
  {
   "cell_type": "code",
   "execution_count": 38,
   "metadata": {},
   "outputs": [
    {
     "name": "stdout",
     "output_type": "stream",
     "text": [
      "False\n"
     ]
    }
   ],
   "source": [
    "r10 = requests.get(url)\n",
    "print(r10.is_redirect)"
   ]
  },
  {
   "cell_type": "markdown",
   "metadata": {},
   "source": [
    "# Response-11: iter_content()\t\t\n",
    "Iterates over the response.\n",
    "\n",
    "response.iter_content() iterates over the response.content. Python requests are generally used to fetch the content from a particular resource URI. Whenever we make a request to a specified URI through Python, it returns a response object. Now, this response object would be used to access certain features such as content, headers, etc. This article revolves around how to check the response.iter_content() out of a response object."
   ]
  },
  {
   "cell_type": "code",
   "execution_count": null,
   "metadata": {},
   "outputs": [],
   "source": [
    "r11 = requests.get(url)\n",
    "print(r11.iter_content()) #return an iterator, one item for each character:\n",
    "\n",
    "for c in r11.iter_content(): #looping through the iterator:\n",
    "  print(c)"
   ]
  },
  {
   "cell_type": "markdown",
   "metadata": {},
   "source": [
    "# Response-12: iter_lines()\t\t\n",
    "Iterates over the lines of the response"
   ]
  },
  {
   "cell_type": "code",
   "execution_count": null,
   "metadata": {},
   "outputs": [],
   "source": [
    "r12 = requests.get(url)\n",
    "print(r12.iter_lines()) #return an iterator, one item for each line:\n",
    "\n",
    "for c in r12.iter_content(): #looping through the iterator:\n",
    "  print(c)"
   ]
  },
  {
   "cell_type": "markdown",
   "metadata": {},
   "source": [
    "# Response-13: json()\t\t\n",
    "Returns a JSON object of the result (if the result was written in JSON format, if not it raises an error)\n",
    "\n",
    "Check the json content at the terminal output. It returns a Python dictionary.\n",
    "\n",
    "Now, in order to retrieve the data from the response object, we need to convert the raw response content into a JSON type data structure. \n",
    "\n",
    "This is achieved by using json() method. Finally, we extract the required information by parsing down the JSON type object."
   ]
  },
  {
   "cell_type": "code",
   "execution_count": null,
   "metadata": {},
   "outputs": [],
   "source": [
    "r13 = requests.get(url)\n",
    "print(r13.json())"
   ]
  },
  {
   "cell_type": "markdown",
   "metadata": {},
   "source": [
    "# Response-14: links\t\t\n",
    "response.links returns the header links. To know more about Http Headers.\n",
    "\n",
    "Check that {} at the start of the output, it shows the header links JSON.\n",
    "Advanced Concepts"
   ]
  },
  {
   "cell_type": "code",
   "execution_count": 60,
   "metadata": {},
   "outputs": [
    {
     "name": "stdout",
     "output_type": "stream",
     "text": [
      "{}\n"
     ]
    }
   ],
   "source": [
    "r14 = requests.get(url)\n",
    "print(r14.links)"
   ]
  },
  {
   "cell_type": "markdown",
   "metadata": {},
   "source": [
    "# Response-15: next\t\t\n",
    "Returns a Prepared Request object for the next request in a redirection"
   ]
  },
  {
   "cell_type": "code",
   "execution_count": 59,
   "metadata": {},
   "outputs": [
    {
     "name": "stdout",
     "output_type": "stream",
     "text": [
      "None\n"
     ]
    }
   ],
   "source": [
    "r15 = requests.get(url)\n",
    "print(r15.next)"
   ]
  },
  {
   "cell_type": "markdown",
   "metadata": {},
   "source": [
    "# Response-16: ok\t\t\n",
    "Returns True if status_code is less than 400, otherwise False"
   ]
  },
  {
   "cell_type": "code",
   "execution_count": null,
   "metadata": {},
   "outputs": [],
   "source": [
    "r16= requests.get(url)\n",
    "print(r16.ok)"
   ]
  },
  {
   "cell_type": "markdown",
   "metadata": {},
   "source": [
    "# Response-17: raise_for_status()\t\t\n",
    "If an error occur, this method returns a HTTPError object.\n",
    "\n",
    "response.raise_for_status() returns an HTTPError object if an error has occurred during the process. It is used for debugging the requests module and is an integral part of Python requests."
   ]
  },
  {
   "cell_type": "code",
   "execution_count": 58,
   "metadata": {},
   "outputs": [
    {
     "name": "stdout",
     "output_type": "stream",
     "text": [
      "None\n"
     ]
    }
   ],
   "source": [
    "url = 'https://jsonplaceholder.typicode.com/users'\n",
    "r17= requests.get(url)\n",
    "print(r17.raise_for_status())"
   ]
  },
  {
   "cell_type": "markdown",
   "metadata": {},
   "source": [
    "Check that Traceback error, it shows that an error has occurred along with the error “Invalid URL” and status code 404."
   ]
  },
  {
   "cell_type": "markdown",
   "metadata": {},
   "source": [
    "# Response-18: reason\t\t\n",
    "Returns a text corresponding to the status code.\n",
    "\n",
    "response.reason returns a text corresponding to the status code. for example, OK for 200, Not Found for 404.\n",
    "\n",
    "Check that OK and Not Found, it shows the text corresponding to a particular status_code."
   ]
  },
  {
   "cell_type": "code",
   "execution_count": 55,
   "metadata": {},
   "outputs": [
    {
     "name": "stdout",
     "output_type": "stream",
     "text": [
      "OK\n"
     ]
    }
   ],
   "source": [
    "r18 = requests.get(url)\n",
    "print(r18.reason)"
   ]
  },
  {
   "cell_type": "markdown",
   "metadata": {},
   "source": [
    "# Response-19: request\t\t\n",
    "Returns the request object that requested this response.\n",
    "\n",
    "response.request returns the request object that requested this response. Python requests are generally used to fetch the content from a particular resource URI. "
   ]
  },
  {
   "cell_type": "code",
   "execution_count": 43,
   "metadata": {},
   "outputs": [
    {
     "name": "stdout",
     "output_type": "stream",
     "text": [
      "<PreparedRequest [GET]>\n"
     ]
    }
   ],
   "source": [
    "r19= requests.get(url)\n",
    "print(r19.request)"
   ]
  },
  {
   "cell_type": "markdown",
   "metadata": {},
   "source": [
    "# Response-20: status_code\t\t\n",
    "response.status_code returns a number that indicates the status (200 is OK, 404 is Not Found)"
   ]
  },
  {
   "cell_type": "code",
   "execution_count": null,
   "metadata": {},
   "outputs": [],
   "source": [
    "r20 = requests.get(url)\n",
    "print(r20.status_code)"
   ]
  },
  {
   "cell_type": "markdown",
   "metadata": {},
   "source": [
    "# Response-21: text\t\t\n",
    "Returns the content of the response, in unicode"
   ]
  },
  {
   "cell_type": "code",
   "execution_count": null,
   "metadata": {},
   "outputs": [],
   "source": [
    "r21 = requests.get(url)\n",
    "print(r21.text)"
   ]
  },
  {
   "cell_type": "markdown",
   "metadata": {},
   "source": [
    "Check the content at the start of output, it shows the entire content in unicode."
   ]
  },
  {
   "cell_type": "markdown",
   "metadata": {},
   "source": [
    "# Response-22: url\t\t\n",
    "Returns the URL of the response.\n",
    "\n",
    "response.url returns the URL of the response. It will show the main url which has returned the content, after all redirections, if done. "
   ]
  },
  {
   "cell_type": "code",
   "execution_count": null,
   "metadata": {},
   "outputs": [],
   "source": [
    "r22 = requests.get(url)\n",
    "print(r22.url)"
   ]
  }
 ],
 "metadata": {
  "interpreter": {
   "hash": "2be5faf79681da6f2a61fdfdd5405d65d042280f7fba6178067603e3a2925119"
  },
  "kernelspec": {
   "display_name": "Python 3.10.1 64-bit",
   "language": "python",
   "name": "python3"
  },
  "language_info": {
   "codemirror_mode": {
    "name": "ipython",
    "version": 3
   },
   "file_extension": ".py",
   "mimetype": "text/x-python",
   "name": "python",
   "nbconvert_exporter": "python",
   "pygments_lexer": "ipython3",
   "version": "3.10.1"
  },
  "orig_nbformat": 4
 },
 "nbformat": 4,
 "nbformat_minor": 2
}
