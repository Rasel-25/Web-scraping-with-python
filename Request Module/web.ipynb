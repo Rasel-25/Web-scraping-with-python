{
 "cells": [
  {
   "cell_type": "markdown",
   "metadata": {},
   "source": [
    "# Requests\n",
    "Request is a Python  library which helps us interact with the web and fetch information"
   ]
  },
  {
   "cell_type": "code",
   "execution_count": null,
   "metadata": {},
   "outputs": [],
   "source": [
    "import requests\n",
    "requests.__version__"
   ]
  },
  {
   "cell_type": "code",
   "execution_count": null,
   "metadata": {},
   "outputs": [],
   "source": [
    "responce= requests.get(r'https://www.icc-cricket.com/rankings/womens/team-rankings/odi')"
   ]
  },
  {
   "cell_type": "markdown",
   "metadata": {},
   "source": [
    "Using the get() Method to access and fetch information from the server."
   ]
  },
  {
   "cell_type": "code",
   "execution_count": null,
   "metadata": {},
   "outputs": [],
   "source": [
    "responce.status_code  # if the status code is 200 that means your actual requests is successful \n",
    "                      # but 404 means this URL has any fault"
   ]
  },
  {
   "cell_type": "markdown",
   "metadata": {},
   "source": [
    "status_code and ok are similar"
   ]
  },
  {
   "cell_type": "code",
   "execution_count": null,
   "metadata": {},
   "outputs": [],
   "source": [
    "responce.ok  # if the status code is True that means your actual requests is successful \n",
    "                      # but False means this URL has any fault"
   ]
  },
  {
   "cell_type": "code",
   "execution_count": null,
   "metadata": {},
   "outputs": [],
   "source": [
    "responce.headers  # Showing all the headers information "
   ]
  },
  {
   "cell_type": "code",
   "execution_count": null,
   "metadata": {},
   "outputs": [],
   "source": [
    "responce.text # getting whole webpage"
   ]
  },
  {
   "cell_type": "code",
   "execution_count": null,
   "metadata": {},
   "outputs": [],
   "source": [
    "responce.content # similar to responce.text # return whole webpage as byte form"
   ]
  },
  {
   "cell_type": "markdown",
   "metadata": {},
   "source": [
    "# API"
   ]
  },
  {
   "cell_type": "markdown",
   "metadata": {},
   "source": [
    "Dummy API\n",
    "https://reqres.in/api/users?page=2"
   ]
  },
  {
   "cell_type": "code",
   "execution_count": null,
   "metadata": {},
   "outputs": [],
   "source": [
    "api='https://reqres.in/api/users?page=2'\n",
    "api_res= requests.get(api)\n",
    "api_res.status_code"
   ]
  },
  {
   "cell_type": "code",
   "execution_count": null,
   "metadata": {},
   "outputs": [],
   "source": [
    "api_res.text"
   ]
  },
  {
   "cell_type": "markdown",
   "metadata": {},
   "source": [
    "JSON is an open standard file format and data interchange format that uses human-readable text to store and transmit data objects consisting of attribute–value pairs and arrays. It is a common data format with diverse uses in electronic data interchange, including that of web applications with servers."
   ]
  },
  {
   "cell_type": "code",
   "execution_count": null,
   "metadata": {},
   "outputs": [],
   "source": [
    "data=api_res.json() # json() format is very popular which similar to python's dictionary\n",
    "                # json shows data like python dictionary\n",
    "                # json() which use to return request and responce of API"
   ]
  },
  {
   "cell_type": "code",
   "execution_count": null,
   "metadata": {},
   "outputs": [],
   "source": [
    "data"
   ]
  },
  {
   "cell_type": "code",
   "execution_count": null,
   "metadata": {},
   "outputs": [],
   "source": [
    "data.keys() # getting all keys"
   ]
  },
  {
   "cell_type": "code",
   "execution_count": null,
   "metadata": {},
   "outputs": [],
   "source": [
    "data.values() #  getting all values"
   ]
  },
  {
   "cell_type": "code",
   "execution_count": null,
   "metadata": {},
   "outputs": [],
   "source": [
    "data['data']"
   ]
  },
  {
   "cell_type": "code",
   "execution_count": null,
   "metadata": {},
   "outputs": [],
   "source": [
    "data['data'][0] # getting specific value from data"
   ]
  },
  {
   "cell_type": "code",
   "execution_count": null,
   "metadata": {},
   "outputs": [],
   "source": [
    "database=[]\n",
    "for page in range(1,3):\n",
    "    url=r'https://reqres.in/api/users'\n",
    "    params={\n",
    "        'page':page\n",
    "    }\n",
    "    res=requests.get(url,params)\n",
    "    database.extend(res.json()['data'])\n"
   ]
  },
  {
   "cell_type": "code",
   "execution_count": null,
   "metadata": {},
   "outputs": [],
   "source": [
    "database"
   ]
  },
  {
   "cell_type": "code",
   "execution_count": null,
   "metadata": {},
   "outputs": [],
   "source": [
    "len(database)"
   ]
  },
  {
   "cell_type": "code",
   "execution_count": null,
   "metadata": {},
   "outputs": [],
   "source": [
    "database[10]"
   ]
  },
  {
   "cell_type": "code",
   "execution_count": null,
   "metadata": {},
   "outputs": [],
   "source": [
    "params.keys()"
   ]
  },
  {
   "cell_type": "code",
   "execution_count": null,
   "metadata": {},
   "outputs": [],
   "source": [
    "params.values()"
   ]
  },
  {
   "cell_type": "code",
   "execution_count": 1,
   "metadata": {},
   "outputs": [
    {
     "ename": "NameError",
     "evalue": "name 'database' is not defined",
     "output_type": "error",
     "traceback": [
      "\u001b[1;31m---------------------------------------------------------------------------\u001b[0m",
      "\u001b[1;31mNameError\u001b[0m                                 Traceback (most recent call last)",
      "\u001b[1;32me:\\DATA SCIENCE\\PYTHON\\Web-scraping-with-python\\Request Module\\web.ipynb Cell 28'\u001b[0m in \u001b[0;36m<module>\u001b[1;34m\u001b[0m\n\u001b[1;32m----> <a href='vscode-notebook-cell:/e%3A/DATA%20SCIENCE/PYTHON/Web-scraping-with-python/Request%20Module/web.ipynb#ch0000027?line=0'>1</a>\u001b[0m url\u001b[39m=\u001b[39mdatabase[\u001b[39m0\u001b[39m][\u001b[39m'\u001b[39m\u001b[39mavatar\u001b[39m\u001b[39m'\u001b[39m] \u001b[39m# gettig image url\u001b[39;00m\n\u001b[0;32m      <a href='vscode-notebook-cell:/e%3A/DATA%20SCIENCE/PYTHON/Web-scraping-with-python/Request%20Module/web.ipynb#ch0000027?line=1'>2</a>\u001b[0m responce\u001b[39m=\u001b[39mrequests\u001b[39m.\u001b[39mget(url) \u001b[39m# provite url to request \u001b[39;00m\n\u001b[0;32m      <a href='vscode-notebook-cell:/e%3A/DATA%20SCIENCE/PYTHON/Web-scraping-with-python/Request%20Module/web.ipynb#ch0000027?line=2'>3</a>\u001b[0m img\u001b[39m=\u001b[39mresponce\u001b[39m.\u001b[39mcontent \u001b[39m# get data as byte form which represent each pixel value because of this, we can use as photo \u001b[39;00m\n",
      "\u001b[1;31mNameError\u001b[0m: name 'database' is not defined"
     ]
    }
   ],
   "source": [
    "url=database[0]['avatar'] # gettig image url\n",
    "responce=requests.get(url) # provite url to request \n",
    "img=responce.content # get data as byte form which represent each pixel value because of this, we can use as photo \n",
    "url"
   ]
  },
  {
   "cell_type": "code",
   "execution_count": null,
   "metadata": {},
   "outputs": [],
   "source": [
    "img"
   ]
  },
  {
   "cell_type": "code",
   "execution_count": 46,
   "metadata": {},
   "outputs": [],
   "source": [
    "# store image into file, where mode='wb' w for write and b for binary\n",
    "with open('testpic.jpg', mode='wb') as f: # mode='wb' write binary data into the file and save it\n",
    "    f.write(img)"
   ]
  },
  {
   "cell_type": "code",
   "execution_count": 47,
   "metadata": {},
   "outputs": [],
   "source": [
    "# Getting all image\n",
    "for user in database:\n",
    "    url=user['avatar']\n",
    "    responce=requests.get(url)\n",
    "    img=responce.content\n",
    "    filename=user['first_name']+user['last_name']\n",
    "    with open(f'userPhoto\\\\{filename}.jpg', mode='wb') as f:\n",
    "        f.write(img)\n",
    "    \n"
   ]
  },
  {
   "cell_type": "code",
   "execution_count": 48,
   "metadata": {},
   "outputs": [
    {
     "data": {
      "text/plain": [
       "'https://reqres.in/img/faces/12-image.jpg'"
      ]
     },
     "execution_count": 48,
     "metadata": {},
     "output_type": "execute_result"
    }
   ],
   "source": [
    "url"
   ]
  }
 ],
 "metadata": {
  "interpreter": {
   "hash": "2be5faf79681da6f2a61fdfdd5405d65d042280f7fba6178067603e3a2925119"
  },
  "kernelspec": {
   "display_name": "Python 3.10.1 64-bit",
   "language": "python",
   "name": "python3"
  },
  "language_info": {
   "codemirror_mode": {
    "name": "ipython",
    "version": 3
   },
   "file_extension": ".py",
   "mimetype": "text/x-python",
   "name": "python",
   "nbconvert_exporter": "python",
   "pygments_lexer": "ipython3",
   "version": "3.10.1"
  },
  "orig_nbformat": 4
 },
 "nbformat": 4,
 "nbformat_minor": 2
}
