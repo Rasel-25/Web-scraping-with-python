{
 "cells": [
  {
   "cell_type": "markdown",
   "metadata": {},
   "source": [
    "# What is Requests?\n",
    "Requests library is one of the integral part of Python for making HTTP requests to a specified URL. Whether it be REST APIs or Web Scrapping, requests is must to be learned for proceeding further with these technologies. When one makes a request to a URI, it returns a response. Python requests provides inbuilt functionalities for managing both the request and response.\n",
    "\n",
    "The requests module allows you to send HTTP requests using Python.\n",
    "\n",
    "The HTTP request returns a Response Object with all the response data (content, encoding, status, etc).\n",
    "\n",
    "Requests is an HTTP library, written in Python, for human beings. Basic GET usage:\n",
    "\n",
    "request is a python library which helps us to interact with web and fetch information from there "
   ]
  },
  {
   "cell_type": "markdown",
   "metadata": {},
   "source": [
    "# Important of requests module?\n",
    "1. Requests is an Apache2 Licensed HTTP library, that allows to send HTTP/1.1 requests using Python.\n",
    "2. To play with web, Python Requests is must. Whether it be hitting APIs, downloading entire facebook pages, and much more cool stuff, one will have to make a request to the URL.\n",
    "3. Requests play a major role is dealing with REST APIs, and Web Scrapping."
   ]
  },
  {
   "cell_type": "markdown",
   "metadata": {},
   "source": [
    "# use of Request\n",
    "Python requests module has several built-in methods to make Http requests to specified URI using GET, POST, PUT, PATCH or HEAD requests.\n",
    "\n",
    "A Http request is meant to either retrieve data from a specified URI or to push data to a server. \n",
    "\n",
    "It works as a request-response protocol between a client and a server."
   ]
  },
  {
   "cell_type": "markdown",
   "metadata": {},
   "source": [
    "# Task-1: GET method "
   ]
  },
  {
   "cell_type": "markdown",
   "metadata": {},
   "source": [
    "| GET Http Method |\n",
    "\n",
    "Requests library is one of the important aspects of Python for making HTTP requests to a specified URL. \n",
    "\n",
    "The GET method is used to retrieve information from the given server using a given URI. \n",
    "\n",
    "The GET method sends the encoded user information appended to the page request. \n",
    "\n",
    "The page and the encoded information are separated by the ‘?’ character.\n",
    "\n",
    "Syntax: \n",
    "\n",
    "requests.get(url, params={key: value}, args)"
   ]
  },
  {
   "cell_type": "code",
   "execution_count": 2,
   "metadata": {},
   "outputs": [],
   "source": [
    "import requests"
   ]
  },
  {
   "cell_type": "code",
   "execution_count": 3,
   "metadata": {},
   "outputs": [
    {
     "name": "stdout",
     "output_type": "stream",
     "text": [
      "b'{\"login\":\"naveenkrnl\",\"id\":42272662,\"node_id\":\"MDQ6VXNlcjQyMjcyNjYy\",\"avatar_url\":\"https://avatars.githubusercontent.com/u/42272662?v=4\",\"gravatar_id\":\"\",\"url\":\"https://api.github.com/users/naveenkrnl\",\"html_url\":\"https://github.com/naveenkrnl\",\"followers_url\":\"https://api.github.com/users/naveenkrnl/followers\",\"following_url\":\"https://api.github.com/users/naveenkrnl/following{/other_user}\",\"gists_url\":\"https://api.github.com/users/naveenkrnl/gists{/gist_id}\",\"starred_url\":\"https://api.github.com/users/naveenkrnl/starred{/owner}{/repo}\",\"subscriptions_url\":\"https://api.github.com/users/naveenkrnl/subscriptions\",\"organizations_url\":\"https://api.github.com/users/naveenkrnl/orgs\",\"repos_url\":\"https://api.github.com/users/naveenkrnl/repos\",\"events_url\":\"https://api.github.com/users/naveenkrnl/events{/privacy}\",\"received_events_url\":\"https://api.github.com/users/naveenkrnl/received_events\",\"type\":\"User\",\"site_admin\":false,\"name\":\"Naveen Arora\",\"company\":null,\"blog\":\"\",\"location\":\"karnal, Haryana\",\"email\":null,\"hireable\":true,\"bio\":\"A person known by deeds\",\"twitter_username\":null,\"public_repos\":32,\"public_gists\":0,\"followers\":26,\"following\":7,\"created_at\":\"2018-08-10T12:53:15Z\",\"updated_at\":\"2022-03-14T18:34:56Z\"}'\n"
     ]
    }
   ],
   "source": [
    "# making a request to github’s APIs for example purposes.\n",
    "url=r'https://api.github.com/users/naveenkrnl'\n",
    "r= requests.get(url) # # Making a GET request\n",
    "\n",
    "print(r.content) # print content of request"
   ]
  },
  {
   "cell_type": "code",
   "execution_count": 4,
   "metadata": {},
   "outputs": [
    {
     "name": "stdout",
     "output_type": "stream",
     "text": [
      "{'login': 'naveenkrnl', 'id': 42272662, 'node_id': 'MDQ6VXNlcjQyMjcyNjYy', 'avatar_url': 'https://avatars.githubusercontent.com/u/42272662?v=4', 'gravatar_id': '', 'url': 'https://api.github.com/users/naveenkrnl', 'html_url': 'https://github.com/naveenkrnl', 'followers_url': 'https://api.github.com/users/naveenkrnl/followers', 'following_url': 'https://api.github.com/users/naveenkrnl/following{/other_user}', 'gists_url': 'https://api.github.com/users/naveenkrnl/gists{/gist_id}', 'starred_url': 'https://api.github.com/users/naveenkrnl/starred{/owner}{/repo}', 'subscriptions_url': 'https://api.github.com/users/naveenkrnl/subscriptions', 'organizations_url': 'https://api.github.com/users/naveenkrnl/orgs', 'repos_url': 'https://api.github.com/users/naveenkrnl/repos', 'events_url': 'https://api.github.com/users/naveenkrnl/events{/privacy}', 'received_events_url': 'https://api.github.com/users/naveenkrnl/received_events', 'type': 'User', 'site_admin': False, 'name': 'Naveen Arora', 'company': None, 'blog': '', 'location': 'karnal, Haryana', 'email': None, 'hireable': True, 'bio': 'A person known by deeds', 'twitter_username': None, 'public_repos': 32, 'public_gists': 0, 'followers': 26, 'following': 7, 'created_at': '2018-08-10T12:53:15Z', 'updated_at': '2022-03-14T18:34:56Z'}\n"
     ]
    }
   ],
   "source": [
    "r = requests.get(url, params = {\"model\": \"Mustang\"})#demonstrate how to use the 'params' parameter:\n",
    "print(r.json())"
   ]
  },
  {
   "cell_type": "markdown",
   "metadata": {},
   "source": [
    "# Task-2: POST Method\n",
    "\n",
    "| POST Http Method |\n",
    "\n",
    "POST is a request method supported by HTTP used by the World Wide Web. \n",
    "\n",
    "By design, the POST request method requests that a web server accepts the data enclosed in the body of the request message, most likely for storing it. \n",
    "\n",
    "It is often used when uploading a file or when submitting a completed web form.\n",
    "\n",
    "It is more secure than GET because user-entered information is never visible in the URL query string or in the server logs.\n",
    "\n",
    "There is a much larger limit on the amount of data that can be passed and one can send text data as well as binary data (uploading a file) using POST. \n",
    "\n",
    "Syntax:\n",
    "\n",
    "requests.post(url, data={key: value}, json={key: value}, args)"
   ]
  },
  {
   "cell_type": "markdown",
   "metadata": {},
   "source": [
    "Note:\n",
    "\n",
    "requests.post method could be used for many other tasks as well like filling and submitting the web forms, posting on your FB timeline using the Facebook Graph API, etc."
   ]
  },
  {
   "cell_type": "code",
   "execution_count": 5,
   "metadata": {},
   "outputs": [
    {
     "data": {
      "text/plain": [
       "'{\\n  \"args\": {}, \\n  \"data\": \"\", \\n  \"files\": {}, \\n  \"form\": {}, \\n  \"headers\": {\\n    \"Accept\": \"*/*\", \\n    \"Accept-Encoding\": \"gzip, deflate\", \\n    \"Content-Length\": \"0\", \\n    \"Host\": \"httpbin.org\", \\n    \"User-Agent\": \"python-requests/2.27.1\", \\n    \"X-Amzn-Trace-Id\": \"Root=1-626e7620-3e1e15ae5bf1ae0c18d71d79\"\\n  }, \\n  \"json\": null, \\n  \"origin\": \"103.179.24.36\", \\n  \"url\": \"https://httpbin.org/post\"\\n}\\n'"
      ]
     },
     "execution_count": 5,
     "metadata": {},
     "output_type": "execute_result"
    }
   ],
   "source": [
    "url=r'https://httpbin.org/post'\n",
    "r = requests.post(url)\n",
    "r.text"
   ]
  },
  {
   "cell_type": "markdown",
   "metadata": {},
   "source": [
    "| data |\n",
    "\n",
    "Optional. A dictionary, list of tuples, bytes or a file object to send to the specified url"
   ]
  },
  {
   "cell_type": "code",
   "execution_count": 6,
   "metadata": {},
   "outputs": [
    {
     "name": "stdout",
     "output_type": "stream",
     "text": [
      "<Response [200]>\n",
      "{'args': {}, 'data': '', 'files': {}, 'form': {'Country': 'Bangladesh'}, 'headers': {'Accept': '*/*', 'Accept-Encoding': 'gzip, deflate', 'Content-Length': '18', 'Content-Type': 'application/x-www-form-urlencoded', 'Host': 'httpbin.org', 'User-Agent': 'python-requests/2.27.1', 'X-Amzn-Trace-Id': 'Root=1-626e7622-3f72c1b57fdcb9063d246584'}, 'json': None, 'origin': '103.179.24.36', 'url': 'https://httpbin.org/post'}\n"
     ]
    }
   ],
   "source": [
    "Post_data={'Country':'Bangladesh'}\n",
    "r = requests.post(url, data =Post_data)\n",
    "print(r) # check status code for response received\n",
    "\n",
    "print(r.json())"
   ]
  },
  {
   "cell_type": "markdown",
   "metadata": {},
   "source": [
    "| json |\n",
    "\n",
    " object to send to the specified url"
   ]
  },
  {
   "cell_type": "code",
   "execution_count": 7,
   "metadata": {},
   "outputs": [
    {
     "name": "stdout",
     "output_type": "stream",
     "text": [
      "{\n",
      "  \"args\": {}, \n",
      "  \"data\": \"{\\\"Name\\\": \\\"Rasel\\\"}\", \n",
      "  \"files\": {}, \n",
      "  \"form\": {}, \n",
      "  \"headers\": {\n",
      "    \"Accept\": \"*/*\", \n",
      "    \"Accept-Encoding\": \"gzip, deflate\", \n",
      "    \"Content-Length\": \"17\", \n",
      "    \"Content-Type\": \"application/json\", \n",
      "    \"Host\": \"httpbin.org\", \n",
      "    \"User-Agent\": \"python-requests/2.27.1\", \n",
      "    \"X-Amzn-Trace-Id\": \"Root=1-626e7624-622e42523b46a0642a2276dc\"\n",
      "  }, \n",
      "  \"json\": {\n",
      "    \"Name\": \"Rasel\"\n",
      "  }, \n",
      "  \"origin\": \"103.179.24.36\", \n",
      "  \"url\": \"https://httpbin.org/post\"\n",
      "}\n",
      "\n"
     ]
    }
   ],
   "source": [
    "Post_json = {'Name': 'Rasel'}\n",
    "x = requests.post(url, json = Post_json)\n",
    "print(x.text)"
   ]
  },
  {
   "cell_type": "markdown",
   "metadata": {},
   "source": [
    "| files\t|\n",
    "\t\n",
    "Optional. A dictionary of files to send to the specified url"
   ]
  },
  {
   "cell_type": "code",
   "execution_count": 8,
   "metadata": {},
   "outputs": [
    {
     "name": "stdout",
     "output_type": "stream",
     "text": [
      "{\n",
      "  \"args\": {}, \n",
      "  \"data\": \"\", \n",
      "  \"files\": {\n",
      "    \"file\": \"Quote|Author|Tags\\r\\n\\u201cThe world as we have created it is a process of our thinking. It cannot be changed without changing our thinking.\\u201d|Albert Einstein|change#deep-thoughts#thinking#world\\r\\n\\u201cIt is our choices, Harry, that show what we truly are, far more than our abilities.\\u201d|J.K. Rowling|abilities#choices\\r\\n\\u201cThere are only two ways to live your life. One is as though nothing is a miracle. The other is as though everything is a miracle.\\u201d|Albert Einstein|inspirational#life#live#miracle#miracles\\r\\n\\u201cThe person, be it gentleman or lady, who has not pleasure in a good novel, must be intolerably stupid.\\u201d|Jane Austen|aliteracy#books#classic#humor\\r\\n\\u201cImperfection is beauty, madness is genius and it's better to be absolutely ridiculous than absolutely boring.\\u201d|Marilyn Monroe|be-yourself#inspirational\\r\\n\\u201cTry not to become a man of success. Rather become a man of value.\\u201d|Albert Einstein|adulthood#success#value\\r\\n\\u201cIt is better to be hated for what you are than to be loved for what you are not.\\u201d|Andr\\u00e9 Gide|life#love\\r\\n\\u201cI have not failed. I've just found 10,000 ways that won't work.\\u201d|Thomas A. Edison|edison#failure#inspirational#paraphrased\\r\\n\\u201cA woman is like a tea bag; you never know how strong it is until it's in hot water.\\u201d|Eleanor Roosevelt|misattributed-eleanor-roosevelt\\r\\n\\u201cA day without sunshine is like, you know, night.\\u201d|Steve Martin|humor#obvious#simile\\r\\n\\u201cThis life is what you make it. No matter what, you're going to mess up sometimes, it's a universal truth. But the good part is you get to decide how you're going to mess it up. Girls will be your friends - they'll act like it anyway. But just remember, some come, some go. The ones that stay with you through everything - they're your true best friends. Don't let go of them. Also remember, sisters make the best friends in the world. As for lovers, well, they'll come and go too. And baby, I hate to say it, most of them - actually pretty much all of them are going to break your heart, but you can't give up because if you give up, you'll never find your soulmate. You'll never find that half who makes you whole and that goes for everything. Just because you fail once, doesn't mean you're gonna fail at everything. Keep trying, hold on, and always, always, always believe in yourself, because if you don't, then who will, sweetie? So keep your head high, keep your chin up, and most importantly, keep smiling, because life's a beautiful thing and there's so much to smile about.\\u201d|Marilyn Monroe|friends#heartbreak#inspirational#life#love#sisters\\r\\n\\u201cIt takes a great deal of bravery to stand up to our enemies, but just as much to stand up to our friends.\\u201d|J.K. Rowling|courage#friends\\r\\n\\u201cIf you can't explain it to a six year old, you don't understand it yourself.\\u201d|Albert Einstein|simplicity#understand\\r\\n\\u201cYou may not be her first, her last, or her only. She loved before she may love again. But if she loves you now, what else matters? She's not perfect\\u2014you aren't either, and the two of you may never be perfect together but if she can make you laugh, cause you to think twice, and admit to being human and making mistakes, hold onto her and give her the most you can. She may not be thinking about you every second of the day, but she will give you a part of her that she knows you can break\\u2014her heart. So don't hurt her, don't change her, don't analyze and don't expect more than she can give. Smile when she makes you happy, let her know when she makes you mad, and miss her when she's not there.\\u201d|Bob Marley|love\\r\\n\\u201cI like nonsense, it wakes up the brain cells. Fantasy is a necessary ingredient in living.\\u201d|Dr. Seuss|fantasy\\r\\n\\u201cI may not have gone where I intended to go, but I think I have ended up where I needed to be.\\u201d|Douglas Adams|life#navigation\\r\\n\\u201cThe opposite of love is not hate, it's indifference. The opposite of art is not ugliness, it's indifference. The opposite of faith is not heresy, it's indifference. And the opposite of life is not death, it's indifference.\\u201d|Elie Wiesel|activism#apathy#hate#indifference#inspirational#love#opposite#philosophy\\r\\n\\u201cIt is not a lack of love, but a lack of friendship that makes unhappy marriages.\\u201d|Friedrich Nietzsche|friendship#lack-of-friendship#lack-of-love#love#marriage#unhappy-marriage\\r\\n\\u201cGood friends, good books, and a sleepy conscience: this is the ideal life.\\u201d|Mark Twain|books#contentment#friends#friendship#life\\r\\n\\u201cLife is what happens to us while we are making other plans.\\u201d|Allen Saunders|fate#life#misattributed-john-lennon#planning#plans\\r\\n\\u201cI love you without knowing how, or when, or from where. I love you simply, without problems or pride: I love you in this way because I do not know any other way of loving but this, in which there is no I or you, so intimate that your hand upon my chest is my hand, so intimate that when I fall asleep your eyes close.\\u201d|Pablo Neruda|love#poetry\\r\\n\\u201cFor every minute you are angry you lose sixty seconds of happiness.\\u201d|Ralph Waldo Emerson|happiness\\r\\n\\u201cIf you judge people, you have no time to love them.\\u201d|Mother Teresa|attributed-no-source\\r\\n\\u201cAnyone who thinks sitting in church can make you a Christian must also think that sitting in a garage can make you a car.\\u201d|Garrison Keillor|humor#religion\\r\\n\\u201cBeauty is in the eye of the beholder and it may be necessary from time to time to give a stupid or misinformed beholder a black eye.\\u201d|Jim Henson|humor\\r\\n\\u201cToday you are You, that is truer than true. There is no one alive who is Youer than You.\\u201d|Dr. Seuss|comedy#life#yourself\\r\\n\\u201cIf you want your children to be intelligent, read them fairy tales. If you want them to be more intelligent, read them more fairy tales.\\u201d|Albert Einstein|children#fairy-tales\\r\\n\\u201cIt is impossible to live without failing at something, unless you live so cautiously that you might as well not have lived at all - in which case, you fail by default.\\u201d|J.K. Rowling|\\r\\n\\u201cLogic will get you from A to Z; imagination will get you everywhere.\\u201d|Albert Einstein|imagination\\r\\n\\u201cOne good thing about music, when it hits you, you feel no pain.\\u201d|Bob Marley|music\\r\\n\\u201cThe more that you read, the more things you will know. The more that you learn, the more places you'll go.\\u201d|Dr. Seuss|learning#reading#seuss\\r\\n\\u201cOf course it is happening inside your head, Harry, but why on earth should that mean that it is not real?\\u201d|J.K. Rowling|dumbledore\\r\\n\\u201cThe truth is, everyone is going to hurt you. You just got to find the ones worth suffering for.\\u201d|Bob Marley|friendship\\r\\n\\u201cNot all of us can do great things. But we can do small things with great love.\\u201d|Mother Teresa|misattributed-to-mother-teresa#paraphrased\\r\\n\\u201cTo the well-organized mind, death is but the next great adventure.\\u201d|J.K. Rowling|death#inspirational\\r\\n\\u201cAll you need is love. But a little chocolate now and then doesn't hurt.\\u201d|Charles M. Schulz|chocolate#food#humor\\r\\n\\u201cWe read to know we're not alone.\\u201d|William Nicholson|misattributed-to-c-s-lewis#reading\\r\\n\\u201cAny fool can know. The point is to understand.\\u201d|Albert Einstein|knowledge#learning#understanding#wisdom\\r\\n\\u201cI have always imagined that Paradise will be a kind of library.\\u201d|Jorge Luis Borges|books#library\\r\\n\\u201cIt is never too late to be what you might have been.\\u201d|George Eliot|inspirational\\r\\n\\u201cA reader lives a thousand lives before he dies, said Jojen. The man who never reads lives only one.\\u201d|George R.R. Martin|read#readers#reading#reading-books\\r\\n\\u201cYou can never get a cup of tea large enough or a book long enough to suit me.\\u201d|C.S. Lewis|books#inspirational#reading#tea\\r\\n\\u201cYou believe lies so you eventually learn to trust no one but yourself.\\u201d|Marilyn Monroe|\\r\\n\\u201cIf you can make a woman laugh, you can make her do anything.\\u201d|Marilyn Monroe|girls#love\\r\\n\\u201cLife is like riding a bicycle. To keep your balance, you must keep moving.\\u201d|Albert Einstein|life#simile\\r\\n\\u201cThe real lover is the man who can thrill you by kissing your forehead or smiling into your eyes or just staring into space.\\u201d|Marilyn Monroe|love\\r\\n\\u201cA wise girl kisses but doesn't love, listens but doesn't believe, and leaves before she is left.\\u201d|Marilyn Monroe|attributed-no-source\\r\\n\\u201cOnly in the darkness can you see the stars.\\u201d|Martin Luther King Jr.|hope#inspirational\\r\\n\\u201cIt matters not what someone is born, but what they grow to be.\\u201d|J.K. Rowling|dumbledore\\r\\n\\u201cLove does not begin and end the way we seem to think it does. Love is a battle, love is a war; love is a growing up.\\u201d|James Baldwin|love\\r\\n\\u201cThere is nothing I would not do for those who are really my friends. I have no notion of loving people by halves, it is not my nature.\\u201d|Jane Austen|friendship#love\\r\\n\\u201cDo one thing every day that scares you.\\u201d|Eleanor Roosevelt|attributed#fear#inspiration\\r\\n\\u201cI am good, but not an angel. I do sin, but I am not the devil. I am just a small girl in a big world trying to find someone to love.\\u201d|Marilyn Monroe|attributed-no-source\\r\\n\\u201cIf I were not a physicist, I would probably be a musician. I often think in music. I live my daydreams in music. I see my life in terms of music.\\u201d|Albert Einstein|music\\r\\n\\u201cIf you only read the books that everyone else is reading, you can only think what everyone else is thinking.\\u201d|Haruki Murakami|books#thought\\r\\n\\u201cThe difference between genius and stupidity is: genius has its limits.\\u201d|Alexandre Dumas fils|misattributed-to-einstein\\r\\n\\u201cHe's like a drug for you, Bella.\\u201d|Stephenie Meyer|drug#romance#simile\\r\\n\\u201cThere is no friend as loyal as a book.\\u201d|Ernest Hemingway|books#friends#novelist-quotes\\r\\n\\u201cWhen one door of happiness closes, another opens; but often we look so long at the closed door that we do not see the one which has been opened for us.\\u201d|Helen Keller|inspirational\\r\\n\\u201cLife isn't about finding yourself. Life is about creating yourself.\\u201d|George Bernard Shaw|inspirational#life#yourself\\r\\n\\u201cThat's the problem with drinking, I thought, as I poured myself a drink. If something bad happens you drink in an attempt to forget; if something good happens you drink in order to celebrate; and if nothing happens you drink to make something happen.\\u201d|Charles Bukowski|alcohol\\r\\n\\u201cYou don\\u2019t forget the face of the person who was your last hope.\\u201d|Suzanne Collins|the-hunger-games\\r\\n\\u201cRemember, we're madly in love, so it's all right to kiss me anytime you feel like it.\\u201d|Suzanne Collins|humor\\r\\n\\u201cTo love at all is to be vulnerable. Love anything and your heart will be wrung and possibly broken. If you want to make sure of keeping it intact you must give it to no one, not even an animal. Wrap it carefully round with hobbies and little luxuries; avoid all entanglements. Lock it up safe in the casket or coffin of your selfishness. But in that casket, safe, dark, motionless, airless, it will change. It will not be broken; it will become unbreakable, impenetrable, irredeemable. To love is to be vulnerable.\\u201d|C.S. Lewis|love\\r\\n\\u201cNot all those who wander are lost.\\u201d|J.R.R. Tolkien|bilbo#journey#lost#quest#travel#wander\\r\\n\\u201cDo not pity the dead, Harry. Pity the living, and, above all those who live without love.\\u201d|J.K. Rowling|live-death-love\\r\\n\\u201cThere is nothing to writing. All you do is sit down at a typewriter and bleed.\\u201d|Ernest Hemingway|good#writing\\r\\n\\u201cFinish each day and be done with it. You have done what you could. Some blunders and absurdities no doubt crept in; forget them as soon as you can. Tomorrow is a new day. You shall begin it serenely and with too high a spirit to be encumbered with your old nonsense.\\u201d|Ralph Waldo Emerson|life#regrets\\r\\n\\u201cI have never let my schooling interfere with my education.\\u201d|Mark Twain|education\\r\\n\\u201cI have heard there are troubles of more than one kind. Some come from ahead and some come from behind. But I've bought a big bat. I'm all ready you see. Now my troubles are going to have troubles with me!\\u201d|Dr. Seuss|troubles\\r\\n\\u201cIf I had a flower for every time I thought of you...I could walk through my garden forever.\\u201d|Alfred Tennyson|friendship#love\\r\\n\\u201cSome people never go crazy. What truly horrible lives they must lead.\\u201d|Charles Bukowski|humor\\r\\n\\u201cThe trouble with having an open mind, of course, is that people will insist on coming along and trying to put things in it.\\u201d|Terry Pratchett|humor#open-mind#thinking\\r\\n\\u201cThink left and think right and think low and think high. Oh, the thinks you can think up if only you try!\\u201d|Dr. Seuss|humor#philosophy\\r\\n\\u201cWhat really knocks me out is a book that, when you're all done reading it, you wish the author that wrote it was a terrific friend of yours and you could call him up on the phone whenever you felt like it. That doesn't happen much, though.\\u201d|J.D. Salinger|authors#books#literature#reading#writing\\r\\n\\u201cThe reason I talk to myself is because I\\u2019m the only one whose answers I accept.\\u201d|George Carlin|humor#insanity#lies#lying#self-indulgence#truth\\r\\n\\u201cYou may say I'm a dreamer, but I'm not the only one. I hope someday you'll join us. And the world will live as one.\\u201d|John Lennon|beatles#connection#dreamers#dreaming#dreams#hope#inspirational#peace\\r\\n\\u201cI am free of all prejudice. I hate everyone equally. \\u201d|W.C. Fields|humor#sinister\\r\\n\\u201cThe question isn't who is going to let me; it's who is going to stop me.\\u201d|Ayn Rand|\\r\\n\\u201c\\u2032Classic\\u2032 - a book which people praise and don't read.\\u201d|Mark Twain|books#classic#reading\\r\\n\\u201cAnyone who has never made a mistake has never tried anything new.\\u201d|Albert Einstein|mistakes\\r\\n\\u201cA lady's imagination is very rapid; it jumps from admiration to love, from love to matrimony in a moment.\\u201d|Jane Austen|humor#love#romantic#women\\r\\n\\u201cRemember, if the time should come when you have to make a choice between what is right and what is easy, remember what happened to a boy who was good, and kind, and brave, because he strayed across the path of Lord Voldemort. Remember Cedric Diggory.\\u201d|J.K. Rowling|integrity\\r\\n\\u201cI declare after all there is no enjoyment like reading! How much sooner one tires of any thing than of a book! -- When I have a house of my own, I shall be miserable if I have not an excellent library.\\u201d|Jane Austen|books#library#reading\\r\\n\\u201cThere are few people whom I really love, and still fewer of whom I think well. The more I see of the world, the more am I dissatisfied with it; and every day confirms my belief of the inconsistency of all human characters, and of the little dependence that can be placed on the appearance of merit or sense.\\u201d|Jane Austen|elizabeth-bennet#jane-austen\\r\\n\\u201cSome day you will be old enough to start reading fairy tales again.\\u201d|C.S. Lewis|age#fairytales#growing-up\\r\\n\\u201cWe are not necessarily doubting that God will do the best for us; we are wondering how painful the best will turn out to be.\\u201d|C.S. Lewis|god\\r\\n\\u201cThe fear of death follows from the fear of life. A man who lives fully is prepared to die at any time.\\u201d|Mark Twain|death#life\\r\\n\\u201cA lie can travel half way around the world while the truth is putting on its shoes.\\u201d|Mark Twain|misattributed-mark-twain#truth\\r\\n\\u201cI believe in Christianity as I believe that the sun has risen: not only because I see it, but because by it I see everything else.\\u201d|C.S. Lewis|christianity#faith#religion#sun\\r\\n\\\"\\u201cThe truth.\\\"\\\" Dumbledore sighed. \\\"\\\"It is a beautiful and terrible thing, and should therefore be treated with great caution.\\u201d\\\"|J.K. Rowling|truth\\r\\n\\u201cI'm the one that's got to die when it's time for me to die, so let me live my life the way I want to.\\u201d|Jimi Hendrix|death#life\\r\\n\\u201cTo die will be an awfully big adventure.\\u201d|J.M. Barrie|adventure#love\\r\\n\\u201cIt takes courage to grow up and become who you really are.\\u201d|E.E. Cummings|courage\\r\\n\\u201cBut better to get hurt by the truth than comforted with a lie.\\u201d|Khaled Hosseini|life\\r\\n\\u201cYou never really understand a person until you consider things from his point of view... Until you climb inside of his skin and walk around in it.\\u201d|Harper Lee|better-life-empathy\\r\\n\\u201cYou have to write the book that wants to be written. And if the book will be too difficult for grown-ups, then you write it for children.\\u201d|Madeleine L'Engle|books#children#difficult#grown-ups#write#writers#writing\\r\\n\\u201cNever tell the truth to people who are not worthy of it.\\u201d|Mark Twain|truth\\r\\n\\u201cA person's a person, no matter how small.\\u201d|Dr. Seuss|inspirational\\r\\n\\u201c... a mind needs books as a sword needs a whetstone, if it is to keep its edge.\\u201d|George R.R. Martin|books#mind\\r\\n\"\n",
      "  }, \n",
      "  \"form\": {}, \n",
      "  \"headers\": {\n",
      "    \"Accept\": \"*/*\", \n",
      "    \"Accept-Encoding\": \"gzip, deflate\", \n",
      "    \"Content-Length\": \"16529\", \n",
      "    \"Content-Type\": \"multipart/form-data; boundary=fa5ebdecb8aa004177cdfe5dd83afc12\", \n",
      "    \"Host\": \"httpbin.org\", \n",
      "    \"User-Agent\": \"python-requests/2.27.1\", \n",
      "    \"X-Amzn-Trace-Id\": \"Root=1-626e7625-63835d0f36701f5f204df800\"\n",
      "  }, \n",
      "  \"json\": null, \n",
      "  \"origin\": \"103.179.24.37\", \n",
      "  \"url\": \"https://httpbin.org/post\"\n",
      "}\n",
      "\n"
     ]
    }
   ],
   "source": [
    "myfiles = {'file': open('Rasel.csv' ,'rb')}\n",
    "\n",
    "x = requests.post(url, files = myfiles)\n",
    "print(x.text)\n"
   ]
  },
  {
   "cell_type": "markdown",
   "metadata": {},
   "source": [
    "| timeout |\n",
    "\n",
    "Optional. A number, or a tuple, indicating how many seconds to wait for the client to make a connection and/or send a response.\n",
    "Default None which means the request will continue until the connection is closed"
   ]
  },
  {
   "cell_type": "code",
   "execution_count": 9,
   "metadata": {},
   "outputs": [
    {
     "name": "stdout",
     "output_type": "stream",
     "text": [
      "{\n",
      "  \"args\": {}, \n",
      "  \"data\": \"\", \n",
      "  \"files\": {}, \n",
      "  \"form\": {\n",
      "    \"Country\": \"Bangladesh\"\n",
      "  }, \n",
      "  \"headers\": {\n",
      "    \"Accept\": \"*/*\", \n",
      "    \"Accept-Encoding\": \"gzip, deflate\", \n",
      "    \"Content-Length\": \"18\", \n",
      "    \"Content-Type\": \"application/x-www-form-urlencoded\", \n",
      "    \"Host\": \"httpbin.org\", \n",
      "    \"User-Agent\": \"python-requests/2.27.1\", \n",
      "    \"X-Amzn-Trace-Id\": \"Root=1-626e7628-7753c749660511d151bf3faf\"\n",
      "  }, \n",
      "  \"json\": null, \n",
      "  \"origin\": \"103.179.24.39\", \n",
      "  \"url\": \"https://httpbin.org/post\"\n",
      "}\n",
      "\n"
     ]
    }
   ],
   "source": [
    "url=r'https://httpbin.org/post'\n",
    "Post_data={'Country':'Bangladesh'}\n",
    "r = requests.post(url, data = Post_data, timeout=1.0)\n",
    "\n",
    "print(r.text)\n"
   ]
  },
  {
   "cell_type": "markdown",
   "metadata": {},
   "source": [
    "# Task-3: PUT Method\n",
    "The PUT method requests that the enclosed entity be stored under the supplied URI.\n",
    "\n",
    " If the URI refers to an already existing resource, it is modified and if the URI does not point to an existing resource, then the server can create the resource with that URI.\n",
    "\n",
    " Syntax:\n",
    " \n",
    "requests.put(url, params={key: value}, args)"
   ]
  },
  {
   "cell_type": "code",
   "execution_count": 10,
   "metadata": {},
   "outputs": [
    {
     "name": "stdout",
     "output_type": "stream",
     "text": [
      "b'<!DOCTYPE HTML PUBLIC \"-//W3C//DTD HTML 3.2 Final//EN\">\\n<title>405 Method Not Allowed</title>\\n<h1>Method Not Allowed</h1>\\n<p>The method is not allowed for the requested URL.</p>\\n'\n"
     ]
    }
   ],
   "source": [
    "url=r'https://httpbin.org/put'\n",
    "r= requests.get(url) # # Making a GET request\n",
    "\n",
    "print(r.content) # print content of request"
   ]
  },
  {
   "cell_type": "code",
   "execution_count": 11,
   "metadata": {},
   "outputs": [
    {
     "name": "stdout",
     "output_type": "stream",
     "text": [
      "<Response [200]>\n",
      "b'{\\n  \"args\": {}, \\n  \"data\": \"\", \\n  \"files\": {}, \\n  \"form\": {\\n    \"Name\": \"Rasel\"\\n  }, \\n  \"headers\": {\\n    \"Accept\": \"*/*\", \\n    \"Accept-Encoding\": \"gzip, deflate\", \\n    \"Content-Length\": \"10\", \\n    \"Content-Type\": \"application/x-www-form-urlencoded\", \\n    \"Host\": \"httpbin.org\", \\n    \"User-Agent\": \"python-requests/2.27.1\", \\n    \"X-Amzn-Trace-Id\": \"Root=1-626e762b-3fb450db3b5fb55041e301cc\"\\n  }, \\n  \"json\": null, \\n  \"origin\": \"103.179.24.36\", \\n  \"url\": \"https://httpbin.org/put\"\\n}\\n'\n"
     ]
    }
   ],
   "source": [
    "url=r'https://httpbin.org/put'\n",
    "r = requests.put(url, data ={'Name':'Rasel'}) # Making a PUT request\n",
    "\n",
    "print(r) #check status code for response received\n",
    "print(r.content) # print content of request"
   ]
  },
  {
   "cell_type": "markdown",
   "metadata": {},
   "source": [
    "Difference between PUT and POST methods:\n",
    "\n",
    "https://www.geeksforgeeks.org/put-method-python-requests/"
   ]
  },
  {
   "cell_type": "markdown",
   "metadata": {},
   "source": [
    "# Task-4: DELETE method\n",
    "DELETE is a request method supported by HTTP used by the World Wide Web. \n",
    "\n",
    "The DELETE method deletes the specified resource.\n",
    "\n",
    "The delete() method sends a DELETE request to the specified url.\n",
    "\n",
    "DELETE requests are made for deleting the specified resource (file, record etc).\n",
    "\n",
    "As with a PUT request, you need to specify a particular resource for this operation. \n",
    "\n",
    "A successful response SHOULD be 200 (OK) if the response includes an entity describing the status, 202 (Accepted) if the action has not yet been enacted, or 204 (No Content) if the action has been enacted but the response does not include an entity.\n",
    "\n",
    "Syntax:\n",
    "\n",
    "requests.delete(url, params={key: value}, args)"
   ]
  },
  {
   "cell_type": "code",
   "execution_count": 12,
   "metadata": {},
   "outputs": [
    {
     "name": "stdout",
     "output_type": "stream",
     "text": [
      "405\n"
     ]
    }
   ],
   "source": [
    "url=r'https://httpbin.org/delete'\n",
    "r=requests.get(url)\n",
    "print(r.status_code)"
   ]
  },
  {
   "cell_type": "code",
   "execution_count": 13,
   "metadata": {},
   "outputs": [
    {
     "name": "stdout",
     "output_type": "stream",
     "text": [
      "<Response [200]>\n",
      "{'args': {}, 'data': '', 'files': {}, 'form': {'key': 'value'}, 'headers': {'Accept': '*/*', 'Accept-Encoding': 'gzip, deflate', 'Content-Length': '9', 'Content-Type': 'application/x-www-form-urlencoded', 'Host': 'httpbin.org', 'User-Agent': 'python-requests/2.27.1', 'X-Amzn-Trace-Id': 'Root=1-626e762f-660639c95582a8494ee1c602'}, 'json': None, 'origin': '103.179.24.36', 'url': 'https://httpbin.org/delete'}\n"
     ]
    }
   ],
   "source": [
    "r = requests.delete(url, data ={'key':'value'}) # Making a DELETE request\n",
    "\n",
    "print(r) # check status code for response received & success code - 200\n",
    "print(r.json()) #print content of request"
   ]
  },
  {
   "cell_type": "markdown",
   "metadata": {},
   "source": [
    "| allow_redirects |\t\n",
    "\t\n",
    "Optional. A Boolean to enable/disable redirection.\n",
    "Default True (allowing redirects) \n",
    "\n",
    "Sometimes the server redirects a request, could be if the file does not exist etc, set the 'allow_redirects' parameter to False to deny redirects"
   ]
  },
  {
   "cell_type": "code",
   "execution_count": 14,
   "metadata": {},
   "outputs": [
    {
     "name": "stdout",
     "output_type": "stream",
     "text": [
      "{\n",
      "  \"args\": {}, \n",
      "  \"data\": \"\", \n",
      "  \"files\": {}, \n",
      "  \"form\": {}, \n",
      "  \"headers\": {\n",
      "    \"Accept\": \"*/*\", \n",
      "    \"Accept-Encoding\": \"gzip, deflate\", \n",
      "    \"Content-Length\": \"0\", \n",
      "    \"Host\": \"httpbin.org\", \n",
      "    \"User-Agent\": \"python-requests/2.27.1\", \n",
      "    \"X-Amzn-Trace-Id\": \"Root=1-626e7630-1887afb0679c307875d6b0ab\"\n",
      "  }, \n",
      "  \"json\": null, \n",
      "  \"origin\": \"103.179.24.36\", \n",
      "  \"url\": \"https://httpbin.org/delete\"\n",
      "}\n",
      "\n"
     ]
    }
   ],
   "source": [
    "r = requests.delete(url, allow_redirects=False)\n",
    "print(r.text)"
   ]
  },
  {
   "cell_type": "markdown",
   "metadata": {},
   "source": [
    "# Task-5: HEAD method\n",
    "HEAD requests are done when you do not need the content of the file, but only the status_code or HTTP headers.\n",
    "\n",
    "HEAD is a request method supported by HTTP used by the World Wide Web. \n",
    "\n",
    "The HEAD method asks for a response identical to that of a GET request, but without the response body. \n",
    "\n",
    "This is useful for retrieving meta-information written in response headers, without having to transport the entire content.\n",
    "\n",
    "Syntax: \n",
    "\n",
    "requests.head(url, params={key: value}, args)"
   ]
  },
  {
   "cell_type": "code",
   "execution_count": 15,
   "metadata": {},
   "outputs": [
    {
     "name": "stdout",
     "output_type": "stream",
     "text": [
      "<Response [200]>\n",
      "{'Date': 'Sun, 01 May 2022 11:59:46 GMT', 'Content-Type': 'text/html; charset=utf-8', 'Content-Length': '9593', 'Connection': 'keep-alive', 'Server': 'gunicorn/19.9.0', 'Access-Control-Allow-Origin': '*', 'Access-Control-Allow-Credentials': 'true'}\n",
      "b''\n"
     ]
    }
   ],
   "source": [
    "url=r'https://httpbin.org/'\n",
    "r =requests.head(url, data ={'key':'value'}) # Making a HEAD request\n",
    "\n",
    "print(r)\n",
    "print(r.headers) # print headers of request\n",
    "print(r.content)"
   ]
  },
  {
   "cell_type": "markdown",
   "metadata": {},
   "source": [
    "# Task-6: PATCH Method\n",
    "PATCH is a request method supported by HTTP used by the World Wide Web. \n",
    "\n",
    "It is used for modify capabilities. \n",
    "\n",
    "The PATCH request only needs to contain the changes to the resource, not the complete resource. \n",
    "\n",
    "This resembles PUT, but the body contains a set of instructions describing how a resource currently residing on the server should be modified to produce a new version. \n",
    "\n",
    "This means that the PATCH body should not just be a modified part of the resource, but in some kind of patch language like JSON Patch or XML Patch. PATCH is neither safe nor idempotent.\n",
    "\n",
    "Syntax:\n",
    " \n",
    "requests.patch(url, params={key: value}, args)"
   ]
  },
  {
   "cell_type": "code",
   "execution_count": 16,
   "metadata": {},
   "outputs": [
    {
     "name": "stdout",
     "output_type": "stream",
     "text": [
      "<Response [200]>\n",
      "b'{\\n  \"args\": {}, \\n  \"data\": \"\", \\n  \"files\": {}, \\n  \"form\": {\\n    \"key\": \"value\"\\n  }, \\n  \"headers\": {\\n    \"Accept\": \"*/*\", \\n    \"Accept-Encoding\": \"gzip, deflate\", \\n    \"Content-Length\": \"9\", \\n    \"Content-Type\": \"application/x-www-form-urlencoded\", \\n    \"Host\": \"httpbin.org\", \\n    \"User-Agent\": \"python-requests/2.27.1\", \\n    \"X-Amzn-Trace-Id\": \"Root=1-626e7633-520003416115241016e8e27e\"\\n  }, \\n  \"json\": null, \\n  \"origin\": \"103.179.24.35\", \\n  \"url\": \"https://httpbin.org/patch\"\\n}\\n'\n"
     ]
    }
   ],
   "source": [
    "\n",
    "r = requests.patch('https://httpbin.org/patch', data ={'key':'value'}) #  Making a PATCH request\n",
    "\n",
    "print(r)\n",
    "print(r.content)"
   ]
  },
  {
   "cell_type": "markdown",
   "metadata": {},
   "source": [
    "|| When to use PATCH method ?\n",
    "\n",
    "The PATCH method is a request method supported by the HTTP protocol for making partial changes to an existing resource. \n",
    "\n",
    "The PATCH method provides an entity containing a list of changes to be applied to the resource requested using the HTTP URI. \n",
    "\n",
    "The list of changes are supplied in the form of a PATCH document. \n",
    "\n",
    "If the requested resource does not exist then the server may create the resource depending on the PATCH document media type and permissions.\n",
    "\n",
    "The changes described in the PATCH document must be semantically well defined but can have a different media type than the resource being patched. \n",
    "\n",
    "Frameworks such as XML, JSON can be used in describing the changes in the PATCH document."
   ]
  },
  {
   "cell_type": "code",
   "execution_count": null,
   "metadata": {},
   "outputs": [],
   "source": []
  }
 ],
 "metadata": {
  "interpreter": {
   "hash": "2be5faf79681da6f2a61fdfdd5405d65d042280f7fba6178067603e3a2925119"
  },
  "kernelspec": {
   "display_name": "Python 3.10.1 64-bit",
   "language": "python",
   "name": "python3"
  },
  "language_info": {
   "codemirror_mode": {
    "name": "ipython",
    "version": 3
   },
   "file_extension": ".py",
   "mimetype": "text/x-python",
   "name": "python",
   "nbconvert_exporter": "python",
   "pygments_lexer": "ipython3",
   "version": "3.10.1"
  },
  "orig_nbformat": 4
 },
 "nbformat": 4,
 "nbformat_minor": 2
}
