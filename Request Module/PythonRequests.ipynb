{
 "cells": [
  {
   "cell_type": "markdown",
   "metadata": {},
   "source": [
    "# What is Requests?\n",
    "Requests library is one of the integral part of Python for making HTTP requests to a specified URL. Whether it be REST APIs or Web Scrapping, requests is must to be learned for proceeding further with these technologies. When one makes a request to a URI, it returns a response. Python requests provides inbuilt functionalities for managing both the request and response.\n",
    "\n",
    "The requests module allows you to send HTTP requests using Python.\n",
    "\n",
    "The HTTP request returns a Response Object with all the response data (content, encoding, status, etc).\n",
    "\n",
    "Requests is an HTTP library, written in Python, for human beings. Basic GET usage:\n",
    "\n",
    "request is a python library which helps us to interact with web and fetch information from there "
   ]
  },
  {
   "cell_type": "markdown",
   "metadata": {},
   "source": [
    "# Important of requests module?\n",
    "1. Requests is an Apache2 Licensed HTTP library, that allows to send HTTP/1.1 requests using Python.\n",
    "2. To play with web, Python Requests is must. Whether it be hitting APIs, downloading entire facebook pages, and much more cool stuff, one will have to make a request to the URL.\n",
    "3. Requests play a major role is dealing with REST APIs, and Web Scrapping."
   ]
  },
  {
   "cell_type": "markdown",
   "metadata": {},
   "source": [
    "# use of Request\n",
    "Python requests module has several built-in methods to make Http requests to specified URI using GET, POST, PUT, PATCH or HEAD requests.\n",
    "\n",
    "A Http request is meant to either retrieve data from a specified URI or to push data to a server. \n",
    "\n",
    "It works as a request-response protocol between a client and a server."
   ]
  },
  {
   "cell_type": "markdown",
   "metadata": {},
   "source": [
    "# Task-1: GET method "
   ]
  },
  {
   "cell_type": "markdown",
   "metadata": {},
   "source": [
    "| GET Http Method |\n",
    "\n",
    "Requests library is one of the important aspects of Python for making HTTP requests to a specified URL. \n",
    "\n",
    "The GET method is used to retrieve information from the given server using a given URI. \n",
    "\n",
    "The GET method sends the encoded user information appended to the page request. \n",
    "\n",
    "The page and the encoded information are separated by the ‘?’ character.\n",
    "\n",
    "Syntax: \n",
    "\n",
    "requests.get(url, params={key: value}, args)"
   ]
  },
  {
   "cell_type": "code",
   "execution_count": null,
   "metadata": {},
   "outputs": [],
   "source": [
    "import requests"
   ]
  },
  {
   "cell_type": "code",
   "execution_count": null,
   "metadata": {},
   "outputs": [],
   "source": [
    "# making a request to github’s APIs for example purposes.\n",
    "url=r'https://api.github.com/users/naveenkrnl'\n",
    "r= requests.get(url) # # Making a GET request\n",
    "\n",
    "print(r.content) # print content of request"
   ]
  },
  {
   "cell_type": "code",
   "execution_count": null,
   "metadata": {},
   "outputs": [],
   "source": [
    "r = requests.get(url, params = {\"model\": \"Mustang\"})#demonstrate how to use the 'params' parameter:\n",
    "print(r.json())"
   ]
  },
  {
   "cell_type": "markdown",
   "metadata": {},
   "source": [
    "# Task-2: POST Method\n",
    "\n",
    "| POST Http Method |\n",
    "\n",
    "POST is a request method supported by HTTP used by the World Wide Web. \n",
    "\n",
    "By design, the POST request method requests that a web server accepts the data enclosed in the body of the request message, most likely for storing it. \n",
    "\n",
    "It is often used when uploading a file or when submitting a completed web form.\n",
    "\n",
    "It is more secure than GET because user-entered information is never visible in the URL query string or in the server logs.\n",
    "\n",
    "There is a much larger limit on the amount of data that can be passed and one can send text data as well as binary data (uploading a file) using POST. \n",
    "\n",
    "Syntax:\n",
    "\n",
    "requests.post(url, data={key: value}, json={key: value}, args)"
   ]
  },
  {
   "cell_type": "code",
   "execution_count": null,
   "metadata": {},
   "outputs": [],
   "source": [
    "url=r'https://httpbin.org/post'\n",
    "r = requests.post(url)\n",
    "r.text"
   ]
  },
  {
   "cell_type": "markdown",
   "metadata": {},
   "source": [
    "| data |\n",
    "\n",
    "Optional. A dictionary, list of tuples, bytes or a file object to send to the specified url"
   ]
  },
  {
   "cell_type": "code",
   "execution_count": null,
   "metadata": {},
   "outputs": [],
   "source": [
    "Post_data={'Country':'Bangladesh'}\n",
    "r = requests.post(url, data =Post_data)\n",
    "print(r) # check status code for response received\n",
    "\n",
    "print(r.json())"
   ]
  },
  {
   "cell_type": "markdown",
   "metadata": {},
   "source": [
    "| json |\n",
    "\n",
    " object to send to the specified url"
   ]
  },
  {
   "cell_type": "code",
   "execution_count": null,
   "metadata": {},
   "outputs": [],
   "source": [
    "Post_json = {'Name': 'Rasel'}\n",
    "x = requests.post(url, json = Post_json)\n",
    "print(x.text)"
   ]
  },
  {
   "cell_type": "markdown",
   "metadata": {},
   "source": [
    "| files\t|\n",
    "\t\n",
    "Optional. A dictionary of files to send to the specified url"
   ]
  },
  {
   "cell_type": "code",
   "execution_count": null,
   "metadata": {},
   "outputs": [],
   "source": [
    "myfiles = {'file': open('Rasel.csv' ,'rb')}\n",
    "\n",
    "x = requests.post(url, files = myfiles)\n",
    "print(x.text)\n"
   ]
  },
  {
   "cell_type": "markdown",
   "metadata": {},
   "source": [
    "| timeout |\n",
    "\n",
    "Optional. A number, or a tuple, indicating how many seconds to wait for the client to make a connection and/or send a response.\n",
    "Default None which means the request will continue until the connection is closed"
   ]
  },
  {
   "cell_type": "code",
   "execution_count": null,
   "metadata": {},
   "outputs": [],
   "source": [
    "url=r'https://httpbin.org/post'\n",
    "Post_data={'Country':'Bangladesh'}\n",
    "r = requests.post(url, data = Post_data, timeout=1.0)\n",
    "\n",
    "print(r.text)\n"
   ]
  },
  {
   "cell_type": "markdown",
   "metadata": {},
   "source": [
    "# Task-3: PUT Method\n",
    "The PUT method requests that the enclosed entity be stored under the supplied URI.\n",
    "\n",
    " If the URI refers to an already existing resource, it is modified and if the URI does not point to an existing resource, then the server can create the resource with that URI.\n",
    "\n",
    " Syntax:\n",
    " \n",
    "requests.put(url, params={key: value}, args)"
   ]
  },
  {
   "cell_type": "code",
   "execution_count": null,
   "metadata": {},
   "outputs": [],
   "source": [
    "url=r'https://httpbin.org/put'\n",
    "r= requests.get(url) # # Making a GET request\n",
    "\n",
    "print(r.content) # print content of request"
   ]
  },
  {
   "cell_type": "code",
   "execution_count": null,
   "metadata": {},
   "outputs": [],
   "source": [
    "url=r'https://httpbin.org/put'\n",
    "r = requests.put(url, data ={'Name':'Rasel'}) # Making a PUT request\n",
    "\n",
    "print(r) #check status code for response received\n",
    "print(r.content) # print content of request"
   ]
  },
  {
   "cell_type": "markdown",
   "metadata": {},
   "source": [
    "Difference between PUT and POST methods:\n",
    "\n",
    "https://www.geeksforgeeks.org/put-method-python-requests/"
   ]
  },
  {
   "cell_type": "markdown",
   "metadata": {},
   "source": [
    "# Task-4: DELETE method\n",
    "DELETE is a request method supported by HTTP used by the World Wide Web. \n",
    "\n",
    "The DELETE method deletes the specified resource.\n",
    "\n",
    "The delete() method sends a DELETE request to the specified url.\n",
    "\n",
    "DELETE requests are made for deleting the specified resource (file, record etc).\n",
    "\n",
    "As with a PUT request, you need to specify a particular resource for this operation. \n",
    "\n",
    "A successful response SHOULD be 200 (OK) if the response includes an entity describing the status, 202 (Accepted) if the action has not yet been enacted, or 204 (No Content) if the action has been enacted but the response does not include an entity.\n",
    "\n",
    "Syntax:\n",
    "\n",
    "requests.delete(url, params={key: value}, args)"
   ]
  },
  {
   "cell_type": "code",
   "execution_count": null,
   "metadata": {},
   "outputs": [],
   "source": [
    "url=r'https://httpbin.org/delete'\n",
    "r=requests.get(url)\n",
    "print(r.status_code)"
   ]
  },
  {
   "cell_type": "code",
   "execution_count": null,
   "metadata": {},
   "outputs": [],
   "source": [
    "r = requests.delete(url, data ={'key':'value'}) # Making a DELETE request\n",
    "\n",
    "print(r) # check status code for response received & success code - 200\n",
    "print(r.json()) #print content of request"
   ]
  },
  {
   "cell_type": "markdown",
   "metadata": {},
   "source": [
    "| allow_redirects |\t\n",
    "\t\n",
    "Optional. A Boolean to enable/disable redirection.\n",
    "Default True (allowing redirects) \n",
    "\n",
    "Sometimes the server redirects a request, could be if the file does not exist etc, set the 'allow_redirects' parameter to False to deny redirects"
   ]
  },
  {
   "cell_type": "code",
   "execution_count": null,
   "metadata": {},
   "outputs": [],
   "source": [
    "r = requests.delete(url, allow_redirects=False)\n",
    "print(r.text)"
   ]
  },
  {
   "cell_type": "markdown",
   "metadata": {},
   "source": [
    "# Task-5: HEAD method\n",
    "HEAD requests are done when you do not need the content of the file, but only the status_code or HTTP headers.\n",
    "\n",
    "HEAD is a request method supported by HTTP used by the World Wide Web. \n",
    "\n",
    "The HEAD method asks for a response identical to that of a GET request, but without the response body. \n",
    "\n",
    "This is useful for retrieving meta-information written in response headers, without having to transport the entire content.\n",
    "\n",
    "Syntax: \n",
    "\n",
    "requests.head(url, params={key: value}, args)"
   ]
  },
  {
   "cell_type": "code",
   "execution_count": null,
   "metadata": {},
   "outputs": [],
   "source": [
    "url=r'https://httpbin.org/'\n",
    "r =requests.head(url, data ={'key':'value'}) # Making a HEAD request\n",
    "\n",
    "print(r)\n",
    "print(r.headers) # print headers of request\n",
    "print(r.content)"
   ]
  },
  {
   "cell_type": "markdown",
   "metadata": {},
   "source": [
    "# Task-6: PATCH Method\n",
    "PATCH is a request method supported by HTTP used by the World Wide Web. \n",
    "\n",
    "It is used for modify capabilities. \n",
    "\n",
    "The PATCH request only needs to contain the changes to the resource, not the complete resource. \n",
    "\n",
    "This resembles PUT, but the body contains a set of instructions describing how a resource currently residing on the server should be modified to produce a new version. \n",
    "\n",
    "This means that the PATCH body should not just be a modified part of the resource, but in some kind of patch language like JSON Patch or XML Patch. PATCH is neither safe nor idempotent.\n",
    "\n",
    "Syntax:\n",
    " \n",
    "requests.patch(url, params={key: value}, args)"
   ]
  },
  {
   "cell_type": "code",
   "execution_count": null,
   "metadata": {},
   "outputs": [],
   "source": [
    "\n",
    "r = requests.patch('https://httpbin.org/patch', data ={'key':'value'}) #  Making a PATCH request\n",
    "\n",
    "print(r)\n",
    "print(r.content)"
   ]
  },
  {
   "cell_type": "markdown",
   "metadata": {},
   "source": [
    "|| When to use PATCH method ?\n",
    "\n",
    "The PATCH method is a request method supported by the HTTP protocol for making partial changes to an existing resource. \n",
    "\n",
    "The PATCH method provides an entity containing a list of changes to be applied to the resource requested using the HTTP URI. \n",
    "\n",
    "The list of changes are supplied in the form of a PATCH document. \n",
    "\n",
    "If the requested resource does not exist then the server may create the resource depending on the PATCH document media type and permissions.\n",
    "\n",
    "The changes described in the PATCH document must be semantically well defined but can have a different media type than the resource being patched. \n",
    "\n",
    "Frameworks such as XML, JSON can be used in describing the changes in the PATCH document."
   ]
  },
  {
   "cell_type": "code",
   "execution_count": 17,
   "metadata": {},
   "outputs": [
    {
     "ename": "IndexError",
     "evalue": "list index out of range",
     "output_type": "error",
     "traceback": [
      "\u001b[1;31m---------------------------------------------------------------------------\u001b[0m",
      "\u001b[1;31mIndexError\u001b[0m                                Traceback (most recent call last)",
      "\u001b[1;32me:\\DATA SCIENCE\\PYTHON\\Web-scraping-with-python\\Request Module\\PythonRequests.ipynb Cell 33'\u001b[0m in \u001b[0;36m<module>\u001b[1;34m\u001b[0m\n\u001b[0;32m     <a href='vscode-notebook-cell:/e%3A/DATA%20SCIENCE/PYTHON/Web-scraping-with-python/Request%20Module/PythonRequests.ipynb#ch0000033?line=16'>17</a>\u001b[0m data \u001b[39m=\u001b[39m r\u001b[39m.\u001b[39mjson()\n\u001b[0;32m     <a href='vscode-notebook-cell:/e%3A/DATA%20SCIENCE/PYTHON/Web-scraping-with-python/Request%20Module/PythonRequests.ipynb#ch0000033?line=19'>20</a>\u001b[0m \u001b[39m# extracting latitude, longitude and formatted address \u001b[39;00m\n\u001b[0;32m     <a href='vscode-notebook-cell:/e%3A/DATA%20SCIENCE/PYTHON/Web-scraping-with-python/Request%20Module/PythonRequests.ipynb#ch0000033?line=20'>21</a>\u001b[0m \u001b[39m# of the first matching location\u001b[39;00m\n\u001b[1;32m---> <a href='vscode-notebook-cell:/e%3A/DATA%20SCIENCE/PYTHON/Web-scraping-with-python/Request%20Module/PythonRequests.ipynb#ch0000033?line=21'>22</a>\u001b[0m latitude \u001b[39m=\u001b[39m data[\u001b[39m'\u001b[39;49m\u001b[39mresults\u001b[39;49m\u001b[39m'\u001b[39;49m][\u001b[39m0\u001b[39;49m][\u001b[39m'\u001b[39m\u001b[39mgeometry\u001b[39m\u001b[39m'\u001b[39m][\u001b[39m'\u001b[39m\u001b[39mlocation\u001b[39m\u001b[39m'\u001b[39m][\u001b[39m'\u001b[39m\u001b[39mlat\u001b[39m\u001b[39m'\u001b[39m]\n\u001b[0;32m     <a href='vscode-notebook-cell:/e%3A/DATA%20SCIENCE/PYTHON/Web-scraping-with-python/Request%20Module/PythonRequests.ipynb#ch0000033?line=22'>23</a>\u001b[0m longitude \u001b[39m=\u001b[39m data[\u001b[39m'\u001b[39m\u001b[39mresults\u001b[39m\u001b[39m'\u001b[39m][\u001b[39m0\u001b[39m][\u001b[39m'\u001b[39m\u001b[39mgeometry\u001b[39m\u001b[39m'\u001b[39m][\u001b[39m'\u001b[39m\u001b[39mlocation\u001b[39m\u001b[39m'\u001b[39m][\u001b[39m'\u001b[39m\u001b[39mlng\u001b[39m\u001b[39m'\u001b[39m]\n\u001b[0;32m     <a href='vscode-notebook-cell:/e%3A/DATA%20SCIENCE/PYTHON/Web-scraping-with-python/Request%20Module/PythonRequests.ipynb#ch0000033?line=23'>24</a>\u001b[0m formatted_address \u001b[39m=\u001b[39m data[\u001b[39m'\u001b[39m\u001b[39mresults\u001b[39m\u001b[39m'\u001b[39m][\u001b[39m0\u001b[39m][\u001b[39m'\u001b[39m\u001b[39mformatted_address\u001b[39m\u001b[39m'\u001b[39m]\n",
      "\u001b[1;31mIndexError\u001b[0m: list index out of range"
     ]
    }
   ],
   "source": [
    "# importing the requests library\n",
    "import requests\n",
    "  \n",
    "# api-endpoint\n",
    "URL = \"http://maps.googleapis.com/maps/api/geocode/json\"\n",
    "  \n",
    "# location given here\n",
    "location = \"delhi technological university\"\n",
    "  \n",
    "# defining a params dict for the parameters to be sent to the API\n",
    "PARAMS = {'address':location}\n",
    "  \n",
    "# sending get request and saving the response as response object\n",
    "r = requests.get(url = URL, params = PARAMS)\n",
    "  \n",
    "# extracting data in json format\n",
    "data = r.json()\n",
    "  \n",
    "  \n",
    "# extracting latitude, longitude and formatted address \n",
    "# of the first matching location\n",
    "latitude = data['results'][0]['geometry']['location']['lat']\n",
    "longitude = data['results'][0]['geometry']['location']['lng']\n",
    "formatted_address = data['results'][0]['formatted_address']\n",
    "  \n",
    "# printing the output\n",
    "print(\"Latitude:%s\\nLongitude:%s\\nFormatted Address:%s\"\n",
    "      %(latitude, longitude,formatted_address))"
   ]
  }
 ],
 "metadata": {
  "interpreter": {
   "hash": "2be5faf79681da6f2a61fdfdd5405d65d042280f7fba6178067603e3a2925119"
  },
  "kernelspec": {
   "display_name": "Python 3.10.1 64-bit",
   "language": "python",
   "name": "python3"
  },
  "language_info": {
   "codemirror_mode": {
    "name": "ipython",
    "version": 3
   },
   "file_extension": ".py",
   "mimetype": "text/x-python",
   "name": "python",
   "nbconvert_exporter": "python",
   "pygments_lexer": "ipython3",
   "version": "3.10.1"
  },
  "orig_nbformat": 4
 },
 "nbformat": 4,
 "nbformat_minor": 2
}
