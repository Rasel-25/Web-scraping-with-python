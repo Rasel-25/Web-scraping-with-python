{
 "cells": [
  {
   "cell_type": "markdown",
   "metadata": {},
   "source": [
    "# What is Requests?\n",
    "Requests library is one of the integral part of Python for making HTTP requests to a specified URL. Whether it be REST APIs or Web Scrapping, requests is must to be learned for proceeding further with these technologies. When one makes a request to a URI, it returns a response. Python requests provides inbuilt functionalities for managing both the request and response.\n",
    "\n",
    "The requests module allows you to send HTTP requests using Python.\n",
    "\n",
    "The HTTP request returns a Response Object with all the response data (content, encoding, status, etc).\n",
    "\n",
    "Requests is an HTTP library, written in Python, for human beings. Basic GET usage:\n",
    "\n",
    "request is a python library which helps us to interact with web and fetch information from there "
   ]
  },
  {
   "cell_type": "markdown",
   "metadata": {},
   "source": [
    "# Important of requests module?\n",
    "1. Requests is an Apache2 Licensed HTTP library, that allows to send HTTP/1.1 requests using Python.\n",
    "2. To play with web, Python Requests is must. Whether it be hitting APIs, downloading entire facebook pages, and much more cool stuff, one will have to make a request to the URL.\n",
    "3. Requests play a major role is dealing with REST APIs, and Web Scrapping."
   ]
  },
  {
   "cell_type": "markdown",
   "metadata": {},
   "source": [
    "# use of Request\n",
    "Python requests module has several built-in methods to make Http requests to specified URI using GET, POST, PUT, PATCH or HEAD requests.\n",
    "\n",
    "A Http request is meant to either retrieve data from a specified URI or to push data to a server. \n",
    "\n",
    "It works as a request-response protocol between a client and a server."
   ]
  },
  {
   "cell_type": "markdown",
   "metadata": {},
   "source": [
    "# Task-1: GET method "
   ]
  },
  {
   "cell_type": "markdown",
   "metadata": {},
   "source": [
    "| GET Http Method |\n",
    "\n",
    "Requests library is one of the important aspects of Python for making HTTP requests to a specified URL. \n",
    "\n",
    "The GET method is used to retrieve information from the given server using a given URI. \n",
    "\n",
    "The GET method sends the encoded user information appended to the page request. \n",
    "\n",
    "The page and the encoded information are separated by the ‘?’ character.\n",
    "\n",
    "Syntax: \n",
    "\n",
    "requests.get(url, params={key: value}, args)"
   ]
  },
  {
   "cell_type": "code",
   "execution_count": 4,
   "metadata": {},
   "outputs": [],
   "source": [
    "import requests"
   ]
  },
  {
   "cell_type": "code",
   "execution_count": null,
   "metadata": {},
   "outputs": [],
   "source": [
    "# making a request to github’s APIs for example purposes.\n",
    "url=r'https://api.github.com/users/naveenkrnl'\n",
    "r= requests.get(url) # # Making a GET request\n",
    "\n",
    "print(r.content) # print content of request"
   ]
  },
  {
   "cell_type": "markdown",
   "metadata": {},
   "source": [
    "# Task-2: POST Method\n",
    "\n",
    "| POST Http Method |\n",
    "\n",
    "POST is a request method supported by HTTP used by the World Wide Web. \n",
    "\n",
    "By design, the POST request method requests that a web server accepts the data enclosed in the body of the request message, most likely for storing it. \n",
    "\n",
    "It is often used when uploading a file or when submitting a completed web form.\n",
    "\n",
    "It is more secure than GET because user-entered information is never visible in the URL query string or in the server logs.\n",
    "\n",
    "There is a much larger limit on the amount of data that can be passed and one can send text data as well as binary data (uploading a file) using POST. \n",
    "\n",
    "Syntax:\n",
    "\n",
    "requests.post(url, params={key: value}, args)"
   ]
  },
  {
   "cell_type": "code",
   "execution_count": 8,
   "metadata": {},
   "outputs": [
    {
     "data": {
      "text/plain": [
       "'{\\n  \"args\": {}, \\n  \"data\": \"\", \\n  \"files\": {}, \\n  \"form\": {}, \\n  \"headers\": {\\n    \"Accept\": \"*/*\", \\n    \"Accept-Encoding\": \"gzip, deflate\", \\n    \"Content-Length\": \"0\", \\n    \"Host\": \"httpbin.org\", \\n    \"User-Agent\": \"python-requests/2.27.1\", \\n    \"X-Amzn-Trace-Id\": \"Root=1-626ce002-27a3e0293c4764a93558881a\"\\n  }, \\n  \"json\": null, \\n  \"origin\": \"103.179.24.39\", \\n  \"url\": \"https://httpbin.org/post\"\\n}\\n'"
      ]
     },
     "execution_count": 8,
     "metadata": {},
     "output_type": "execute_result"
    }
   ],
   "source": [
    "r = requests.post('https://httpbin.org/post')\n",
    "r.text"
   ]
  },
  {
   "cell_type": "code",
   "execution_count": 10,
   "metadata": {},
   "outputs": [
    {
     "name": "stdout",
     "output_type": "stream",
     "text": [
      "<Response [200]>\n",
      "{'args': {}, 'data': '', 'files': {}, 'form': {'key': 'value'}, 'headers': {'Accept': '*/*', 'Accept-Encoding': 'gzip, deflate', 'Content-Length': '9', 'Content-Type': 'application/x-www-form-urlencoded', 'Host': 'httpbin.org', 'User-Agent': 'python-requests/2.27.1', 'X-Amzn-Trace-Id': 'Root=1-626ce155-46d7f40d39eb02122acbc80d'}, 'json': None, 'origin': '103.179.24.35', 'url': 'https://httpbin.org/post'}\n"
     ]
    }
   ],
   "source": [
    "r = requests.post('https://httpbin.org/post', data ={'key':'value'})\n",
    " \n",
    "# check status code for response received\n",
    "# success code - 200\n",
    "print(r)\n",
    " \n",
    "# print content of request\n",
    "print(r.json())"
   ]
  }
 ],
 "metadata": {
  "interpreter": {
   "hash": "2be5faf79681da6f2a61fdfdd5405d65d042280f7fba6178067603e3a2925119"
  },
  "kernelspec": {
   "display_name": "Python 3.10.1 64-bit",
   "language": "python",
   "name": "python3"
  },
  "language_info": {
   "codemirror_mode": {
    "name": "ipython",
    "version": 3
   },
   "file_extension": ".py",
   "mimetype": "text/x-python",
   "name": "python",
   "nbconvert_exporter": "python",
   "pygments_lexer": "ipython3",
   "version": "3.10.1"
  },
  "orig_nbformat": 4
 },
 "nbformat": 4,
 "nbformat_minor": 2
}
